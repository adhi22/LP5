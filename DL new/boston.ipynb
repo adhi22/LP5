{
 "cells": [
  {
   "cell_type": "code",
   "execution_count": 1,
   "id": "87c0d608",
   "metadata": {},
   "outputs": [],
   "source": [
    "import numpy as np\n",
    "import pandas as pd\n",
    "import matplotlib.pyplot as plt"
   ]
  },
  {
   "cell_type": "code",
   "execution_count": 2,
   "id": "832bafbc",
   "metadata": {},
   "outputs": [
    {
     "data": {
      "text/html": [
       "<div>\n",
       "<style scoped>\n",
       "    .dataframe tbody tr th:only-of-type {\n",
       "        vertical-align: middle;\n",
       "    }\n",
       "\n",
       "    .dataframe tbody tr th {\n",
       "        vertical-align: top;\n",
       "    }\n",
       "\n",
       "    .dataframe thead th {\n",
       "        text-align: right;\n",
       "    }\n",
       "</style>\n",
       "<table border=\"1\" class=\"dataframe\">\n",
       "  <thead>\n",
       "    <tr style=\"text-align: right;\">\n",
       "      <th></th>\n",
       "      <th>crim</th>\n",
       "      <th>zn</th>\n",
       "      <th>indus</th>\n",
       "      <th>chas</th>\n",
       "      <th>nox</th>\n",
       "      <th>rm</th>\n",
       "      <th>age</th>\n",
       "      <th>dis</th>\n",
       "      <th>rad</th>\n",
       "      <th>tax</th>\n",
       "      <th>ptratio</th>\n",
       "      <th>b</th>\n",
       "      <th>lstat</th>\n",
       "      <th>medv</th>\n",
       "    </tr>\n",
       "  </thead>\n",
       "  <tbody>\n",
       "    <tr>\n",
       "      <th>0</th>\n",
       "      <td>0.00632</td>\n",
       "      <td>18.0</td>\n",
       "      <td>2.31</td>\n",
       "      <td>0</td>\n",
       "      <td>0.538</td>\n",
       "      <td>6.575</td>\n",
       "      <td>65.2</td>\n",
       "      <td>4.0900</td>\n",
       "      <td>1</td>\n",
       "      <td>296</td>\n",
       "      <td>15.3</td>\n",
       "      <td>396.90</td>\n",
       "      <td>4.98</td>\n",
       "      <td>24.0</td>\n",
       "    </tr>\n",
       "    <tr>\n",
       "      <th>1</th>\n",
       "      <td>0.02731</td>\n",
       "      <td>0.0</td>\n",
       "      <td>7.07</td>\n",
       "      <td>0</td>\n",
       "      <td>0.469</td>\n",
       "      <td>6.421</td>\n",
       "      <td>78.9</td>\n",
       "      <td>4.9671</td>\n",
       "      <td>2</td>\n",
       "      <td>242</td>\n",
       "      <td>17.8</td>\n",
       "      <td>396.90</td>\n",
       "      <td>9.14</td>\n",
       "      <td>21.6</td>\n",
       "    </tr>\n",
       "    <tr>\n",
       "      <th>2</th>\n",
       "      <td>0.02729</td>\n",
       "      <td>0.0</td>\n",
       "      <td>7.07</td>\n",
       "      <td>0</td>\n",
       "      <td>0.469</td>\n",
       "      <td>7.185</td>\n",
       "      <td>61.1</td>\n",
       "      <td>4.9671</td>\n",
       "      <td>2</td>\n",
       "      <td>242</td>\n",
       "      <td>17.8</td>\n",
       "      <td>392.83</td>\n",
       "      <td>4.03</td>\n",
       "      <td>34.7</td>\n",
       "    </tr>\n",
       "    <tr>\n",
       "      <th>3</th>\n",
       "      <td>0.03237</td>\n",
       "      <td>0.0</td>\n",
       "      <td>2.18</td>\n",
       "      <td>0</td>\n",
       "      <td>0.458</td>\n",
       "      <td>6.998</td>\n",
       "      <td>45.8</td>\n",
       "      <td>6.0622</td>\n",
       "      <td>3</td>\n",
       "      <td>222</td>\n",
       "      <td>18.7</td>\n",
       "      <td>394.63</td>\n",
       "      <td>2.94</td>\n",
       "      <td>33.4</td>\n",
       "    </tr>\n",
       "    <tr>\n",
       "      <th>4</th>\n",
       "      <td>0.06905</td>\n",
       "      <td>0.0</td>\n",
       "      <td>2.18</td>\n",
       "      <td>0</td>\n",
       "      <td>0.458</td>\n",
       "      <td>7.147</td>\n",
       "      <td>54.2</td>\n",
       "      <td>6.0622</td>\n",
       "      <td>3</td>\n",
       "      <td>222</td>\n",
       "      <td>18.7</td>\n",
       "      <td>396.90</td>\n",
       "      <td>5.33</td>\n",
       "      <td>36.2</td>\n",
       "    </tr>\n",
       "  </tbody>\n",
       "</table>\n",
       "</div>"
      ],
      "text/plain": [
       "      crim    zn  indus  chas    nox     rm   age     dis  rad  tax  ptratio  \\\n",
       "0  0.00632  18.0   2.31     0  0.538  6.575  65.2  4.0900    1  296     15.3   \n",
       "1  0.02731   0.0   7.07     0  0.469  6.421  78.9  4.9671    2  242     17.8   \n",
       "2  0.02729   0.0   7.07     0  0.469  7.185  61.1  4.9671    2  242     17.8   \n",
       "3  0.03237   0.0   2.18     0  0.458  6.998  45.8  6.0622    3  222     18.7   \n",
       "4  0.06905   0.0   2.18     0  0.458  7.147  54.2  6.0622    3  222     18.7   \n",
       "\n",
       "        b  lstat  medv  \n",
       "0  396.90   4.98  24.0  \n",
       "1  396.90   9.14  21.6  \n",
       "2  392.83   4.03  34.7  \n",
       "3  394.63   2.94  33.4  \n",
       "4  396.90   5.33  36.2  "
      ]
     },
     "execution_count": 2,
     "metadata": {},
     "output_type": "execute_result"
    }
   ],
   "source": [
    "df = pd.read_csv(\"https://raw.githubusercontent.com/selva86/datasets/master/BostonHousing.csv\")\n",
    "df.head()"
   ]
  },
  {
   "cell_type": "code",
   "execution_count": 3,
   "id": "91250f13",
   "metadata": {
    "scrolled": false
   },
   "outputs": [
    {
     "data": {
      "text/html": [
       "<div>\n",
       "<style scoped>\n",
       "    .dataframe tbody tr th:only-of-type {\n",
       "        vertical-align: middle;\n",
       "    }\n",
       "\n",
       "    .dataframe tbody tr th {\n",
       "        vertical-align: top;\n",
       "    }\n",
       "\n",
       "    .dataframe thead th {\n",
       "        text-align: right;\n",
       "    }\n",
       "</style>\n",
       "<table border=\"1\" class=\"dataframe\">\n",
       "  <thead>\n",
       "    <tr style=\"text-align: right;\">\n",
       "      <th></th>\n",
       "      <th>crim</th>\n",
       "      <th>zn</th>\n",
       "      <th>indus</th>\n",
       "      <th>chas</th>\n",
       "      <th>nox</th>\n",
       "      <th>rm</th>\n",
       "      <th>age</th>\n",
       "      <th>dis</th>\n",
       "      <th>rad</th>\n",
       "      <th>tax</th>\n",
       "      <th>ptratio</th>\n",
       "      <th>b</th>\n",
       "      <th>lstat</th>\n",
       "      <th>medv</th>\n",
       "    </tr>\n",
       "  </thead>\n",
       "  <tbody>\n",
       "    <tr>\n",
       "      <th>count</th>\n",
       "      <td>506.000000</td>\n",
       "      <td>506.000000</td>\n",
       "      <td>506.000000</td>\n",
       "      <td>506.000000</td>\n",
       "      <td>506.000000</td>\n",
       "      <td>506.000000</td>\n",
       "      <td>506.000000</td>\n",
       "      <td>506.000000</td>\n",
       "      <td>506.000000</td>\n",
       "      <td>506.000000</td>\n",
       "      <td>506.000000</td>\n",
       "      <td>506.000000</td>\n",
       "      <td>506.000000</td>\n",
       "      <td>506.000000</td>\n",
       "    </tr>\n",
       "    <tr>\n",
       "      <th>mean</th>\n",
       "      <td>3.613524</td>\n",
       "      <td>11.363636</td>\n",
       "      <td>11.136779</td>\n",
       "      <td>0.069170</td>\n",
       "      <td>0.554695</td>\n",
       "      <td>6.284634</td>\n",
       "      <td>68.574901</td>\n",
       "      <td>3.795043</td>\n",
       "      <td>9.549407</td>\n",
       "      <td>408.237154</td>\n",
       "      <td>18.455534</td>\n",
       "      <td>356.674032</td>\n",
       "      <td>12.653063</td>\n",
       "      <td>22.532806</td>\n",
       "    </tr>\n",
       "    <tr>\n",
       "      <th>std</th>\n",
       "      <td>8.601545</td>\n",
       "      <td>23.322453</td>\n",
       "      <td>6.860353</td>\n",
       "      <td>0.253994</td>\n",
       "      <td>0.115878</td>\n",
       "      <td>0.702617</td>\n",
       "      <td>28.148861</td>\n",
       "      <td>2.105710</td>\n",
       "      <td>8.707259</td>\n",
       "      <td>168.537116</td>\n",
       "      <td>2.164946</td>\n",
       "      <td>91.294864</td>\n",
       "      <td>7.141062</td>\n",
       "      <td>9.197104</td>\n",
       "    </tr>\n",
       "    <tr>\n",
       "      <th>min</th>\n",
       "      <td>0.006320</td>\n",
       "      <td>0.000000</td>\n",
       "      <td>0.460000</td>\n",
       "      <td>0.000000</td>\n",
       "      <td>0.385000</td>\n",
       "      <td>3.561000</td>\n",
       "      <td>2.900000</td>\n",
       "      <td>1.129600</td>\n",
       "      <td>1.000000</td>\n",
       "      <td>187.000000</td>\n",
       "      <td>12.600000</td>\n",
       "      <td>0.320000</td>\n",
       "      <td>1.730000</td>\n",
       "      <td>5.000000</td>\n",
       "    </tr>\n",
       "    <tr>\n",
       "      <th>25%</th>\n",
       "      <td>0.082045</td>\n",
       "      <td>0.000000</td>\n",
       "      <td>5.190000</td>\n",
       "      <td>0.000000</td>\n",
       "      <td>0.449000</td>\n",
       "      <td>5.885500</td>\n",
       "      <td>45.025000</td>\n",
       "      <td>2.100175</td>\n",
       "      <td>4.000000</td>\n",
       "      <td>279.000000</td>\n",
       "      <td>17.400000</td>\n",
       "      <td>375.377500</td>\n",
       "      <td>6.950000</td>\n",
       "      <td>17.025000</td>\n",
       "    </tr>\n",
       "    <tr>\n",
       "      <th>50%</th>\n",
       "      <td>0.256510</td>\n",
       "      <td>0.000000</td>\n",
       "      <td>9.690000</td>\n",
       "      <td>0.000000</td>\n",
       "      <td>0.538000</td>\n",
       "      <td>6.208500</td>\n",
       "      <td>77.500000</td>\n",
       "      <td>3.207450</td>\n",
       "      <td>5.000000</td>\n",
       "      <td>330.000000</td>\n",
       "      <td>19.050000</td>\n",
       "      <td>391.440000</td>\n",
       "      <td>11.360000</td>\n",
       "      <td>21.200000</td>\n",
       "    </tr>\n",
       "    <tr>\n",
       "      <th>75%</th>\n",
       "      <td>3.677083</td>\n",
       "      <td>12.500000</td>\n",
       "      <td>18.100000</td>\n",
       "      <td>0.000000</td>\n",
       "      <td>0.624000</td>\n",
       "      <td>6.623500</td>\n",
       "      <td>94.075000</td>\n",
       "      <td>5.188425</td>\n",
       "      <td>24.000000</td>\n",
       "      <td>666.000000</td>\n",
       "      <td>20.200000</td>\n",
       "      <td>396.225000</td>\n",
       "      <td>16.955000</td>\n",
       "      <td>25.000000</td>\n",
       "    </tr>\n",
       "    <tr>\n",
       "      <th>max</th>\n",
       "      <td>88.976200</td>\n",
       "      <td>100.000000</td>\n",
       "      <td>27.740000</td>\n",
       "      <td>1.000000</td>\n",
       "      <td>0.871000</td>\n",
       "      <td>8.780000</td>\n",
       "      <td>100.000000</td>\n",
       "      <td>12.126500</td>\n",
       "      <td>24.000000</td>\n",
       "      <td>711.000000</td>\n",
       "      <td>22.000000</td>\n",
       "      <td>396.900000</td>\n",
       "      <td>37.970000</td>\n",
       "      <td>50.000000</td>\n",
       "    </tr>\n",
       "  </tbody>\n",
       "</table>\n",
       "</div>"
      ],
      "text/plain": [
       "             crim          zn       indus        chas         nox          rm  \\\n",
       "count  506.000000  506.000000  506.000000  506.000000  506.000000  506.000000   \n",
       "mean     3.613524   11.363636   11.136779    0.069170    0.554695    6.284634   \n",
       "std      8.601545   23.322453    6.860353    0.253994    0.115878    0.702617   \n",
       "min      0.006320    0.000000    0.460000    0.000000    0.385000    3.561000   \n",
       "25%      0.082045    0.000000    5.190000    0.000000    0.449000    5.885500   \n",
       "50%      0.256510    0.000000    9.690000    0.000000    0.538000    6.208500   \n",
       "75%      3.677083   12.500000   18.100000    0.000000    0.624000    6.623500   \n",
       "max     88.976200  100.000000   27.740000    1.000000    0.871000    8.780000   \n",
       "\n",
       "              age         dis         rad         tax     ptratio           b  \\\n",
       "count  506.000000  506.000000  506.000000  506.000000  506.000000  506.000000   \n",
       "mean    68.574901    3.795043    9.549407  408.237154   18.455534  356.674032   \n",
       "std     28.148861    2.105710    8.707259  168.537116    2.164946   91.294864   \n",
       "min      2.900000    1.129600    1.000000  187.000000   12.600000    0.320000   \n",
       "25%     45.025000    2.100175    4.000000  279.000000   17.400000  375.377500   \n",
       "50%     77.500000    3.207450    5.000000  330.000000   19.050000  391.440000   \n",
       "75%     94.075000    5.188425   24.000000  666.000000   20.200000  396.225000   \n",
       "max    100.000000   12.126500   24.000000  711.000000   22.000000  396.900000   \n",
       "\n",
       "            lstat        medv  \n",
       "count  506.000000  506.000000  \n",
       "mean    12.653063   22.532806  \n",
       "std      7.141062    9.197104  \n",
       "min      1.730000    5.000000  \n",
       "25%      6.950000   17.025000  \n",
       "50%     11.360000   21.200000  \n",
       "75%     16.955000   25.000000  \n",
       "max     37.970000   50.000000  "
      ]
     },
     "execution_count": 3,
     "metadata": {},
     "output_type": "execute_result"
    }
   ],
   "source": [
    "df.describe()"
   ]
  },
  {
   "cell_type": "code",
   "execution_count": 4,
   "id": "0c13bd85",
   "metadata": {},
   "outputs": [
    {
     "data": {
      "text/plain": [
       "crim       0\n",
       "zn         0\n",
       "indus      0\n",
       "chas       0\n",
       "nox        0\n",
       "rm         0\n",
       "age        0\n",
       "dis        0\n",
       "rad        0\n",
       "tax        0\n",
       "ptratio    0\n",
       "b          0\n",
       "lstat      0\n",
       "medv       0\n",
       "dtype: int64"
      ]
     },
     "execution_count": 4,
     "metadata": {},
     "output_type": "execute_result"
    }
   ],
   "source": [
    "df.isnull().sum()"
   ]
  },
  {
   "cell_type": "code",
   "execution_count": 5,
   "id": "6b31fe83",
   "metadata": {},
   "outputs": [
    {
     "data": {
      "text/plain": [
       "(506, 14)"
      ]
     },
     "execution_count": 5,
     "metadata": {},
     "output_type": "execute_result"
    }
   ],
   "source": [
    "df.shape"
   ]
  },
  {
   "cell_type": "code",
   "execution_count": 6,
   "id": "e537b3bd",
   "metadata": {},
   "outputs": [
    {
     "name": "stdout",
     "output_type": "stream",
     "text": [
      "(506, 13) (506,)\n"
     ]
    }
   ],
   "source": [
    "x = df.copy()\n",
    "x.drop(columns=\"medv\", inplace=True)\n",
    "\n",
    "y= df[\"medv\"]\n",
    "\n",
    "print(x.shape, y.shape)"
   ]
  },
  {
   "cell_type": "code",
   "execution_count": 7,
   "id": "e0551dd2",
   "metadata": {},
   "outputs": [],
   "source": [
    "import seaborn as sns"
   ]
  },
  {
   "cell_type": "code",
   "execution_count": 8,
   "id": "dad25137",
   "metadata": {},
   "outputs": [
    {
     "data": {
      "image/png": "[encoded data removed]",
      "text/plain": [
       "<Figure size 720x504 with 2 Axes>"
      ]
     },
     "metadata": {
      "needs_background": "light"
     },
     "output_type": "display_data"
    }
   ],
   "source": [
    "plt.figure(figsize=(10,7))\n",
    "sns.heatmap(df.corr(), annot=True)\n",
    "plt.show()"
   ]
  },
  {
   "cell_type": "code",
   "execution_count": 9,
   "id": "061a7cde",
   "metadata": {},
   "outputs": [
    {
     "data": {
      "text/plain": [
       "crim      -0.388305\n",
       "zn         0.360445\n",
       "indus     -0.483725\n",
       "chas       0.175260\n",
       "nox       -0.427321\n",
       "rm         0.695360\n",
       "age       -0.376955\n",
       "dis        0.249929\n",
       "rad       -0.381626\n",
       "tax       -0.468536\n",
       "ptratio   -0.507787\n",
       "b          0.333461\n",
       "lstat     -0.737663\n",
       "medv       1.000000\n",
       "Name: medv, dtype: float64"
      ]
     },
     "execution_count": 9,
     "metadata": {},
     "output_type": "execute_result"
    }
   ],
   "source": [
    "df.corr()[\"medv\"]"
   ]
  },
  {
   "cell_type": "code",
   "execution_count": 10,
   "id": "a8c7c813",
   "metadata": {},
   "outputs": [
    {
     "data": {
      "text/html": [
       "<div>\n",
       "<style scoped>\n",
       "    .dataframe tbody tr th:only-of-type {\n",
       "        vertical-align: middle;\n",
       "    }\n",
       "\n",
       "    .dataframe tbody tr th {\n",
       "        vertical-align: top;\n",
       "    }\n",
       "\n",
       "    .dataframe thead th {\n",
       "        text-align: right;\n",
       "    }\n",
       "</style>\n",
       "<table border=\"1\" class=\"dataframe\">\n",
       "  <thead>\n",
       "    <tr style=\"text-align: right;\">\n",
       "      <th></th>\n",
       "      <th>indus</th>\n",
       "      <th>nox</th>\n",
       "      <th>rm</th>\n",
       "      <th>tax</th>\n",
       "      <th>ptratio</th>\n",
       "      <th>lstat</th>\n",
       "    </tr>\n",
       "  </thead>\n",
       "  <tbody>\n",
       "    <tr>\n",
       "      <th>0</th>\n",
       "      <td>2.31</td>\n",
       "      <td>0.538</td>\n",
       "      <td>6.575</td>\n",
       "      <td>296</td>\n",
       "      <td>15.3</td>\n",
       "      <td>4.98</td>\n",
       "    </tr>\n",
       "    <tr>\n",
       "      <th>1</th>\n",
       "      <td>7.07</td>\n",
       "      <td>0.469</td>\n",
       "      <td>6.421</td>\n",
       "      <td>242</td>\n",
       "      <td>17.8</td>\n",
       "      <td>9.14</td>\n",
       "    </tr>\n",
       "    <tr>\n",
       "      <th>2</th>\n",
       "      <td>7.07</td>\n",
       "      <td>0.469</td>\n",
       "      <td>7.185</td>\n",
       "      <td>242</td>\n",
       "      <td>17.8</td>\n",
       "      <td>4.03</td>\n",
       "    </tr>\n",
       "    <tr>\n",
       "      <th>3</th>\n",
       "      <td>2.18</td>\n",
       "      <td>0.458</td>\n",
       "      <td>6.998</td>\n",
       "      <td>222</td>\n",
       "      <td>18.7</td>\n",
       "      <td>2.94</td>\n",
       "    </tr>\n",
       "    <tr>\n",
       "      <th>4</th>\n",
       "      <td>2.18</td>\n",
       "      <td>0.458</td>\n",
       "      <td>7.147</td>\n",
       "      <td>222</td>\n",
       "      <td>18.7</td>\n",
       "      <td>5.33</td>\n",
       "    </tr>\n",
       "  </tbody>\n",
       "</table>\n",
       "</div>"
      ],
      "text/plain": [
       "   indus    nox     rm  tax  ptratio  lstat\n",
       "0   2.31  0.538  6.575  296     15.3   4.98\n",
       "1   7.07  0.469  6.421  242     17.8   9.14\n",
       "2   7.07  0.469  7.185  242     17.8   4.03\n",
       "3   2.18  0.458  6.998  222     18.7   2.94\n",
       "4   2.18  0.458  7.147  222     18.7   5.33"
      ]
     },
     "execution_count": 10,
     "metadata": {},
     "output_type": "execute_result"
    }
   ],
   "source": [
    "features = [\"indus\", \"nox\", \"rm\", \"tax\", \"ptratio\", \"lstat\"]\n",
    "x = x[features]\n",
    "x.head()"
   ]
  },
  {
   "cell_type": "code",
   "execution_count": 11,
   "id": "8297a561",
   "metadata": {},
   "outputs": [
    {
     "data": {
      "text/plain": [
       "(506, 6)"
      ]
     },
     "execution_count": 11,
     "metadata": {},
     "output_type": "execute_result"
    }
   ],
   "source": [
    "x.shape"
   ]
  },
  {
   "cell_type": "code",
   "execution_count": 12,
   "id": "2e800a5a",
   "metadata": {},
   "outputs": [],
   "source": [
    "from sklearn.model_selection import train_test_split"
   ]
  },
  {
   "cell_type": "code",
   "execution_count": 13,
   "id": "f4fcd3c0",
   "metadata": {},
   "outputs": [],
   "source": [
    "x_train, x_test, y_train, y_test = train_test_split(x, y, test_size=0.2, random_state=0)"
   ]
  },
  {
   "cell_type": "code",
   "execution_count": 14,
   "id": "7ae927ec",
   "metadata": {},
   "outputs": [],
   "source": [
    "from sklearn.preprocessing import StandardScaler"
   ]
  },
  {
   "cell_type": "code",
   "execution_count": 15,
   "id": "1b85ebdc",
   "metadata": {},
   "outputs": [],
   "source": [
    "scaler = StandardScaler()"
   ]
  },
  {
   "cell_type": "code",
   "execution_count": 16,
   "id": "77b08d60",
   "metadata": {},
   "outputs": [
    {
     "data": {
      "text/plain": [
       "StandardScaler()"
      ]
     },
     "execution_count": 16,
     "metadata": {},
     "output_type": "execute_result"
    }
   ],
   "source": [
    "scaler.fit(x_train)"
   ]
  },
  {
   "cell_type": "code",
   "execution_count": 17,
   "id": "6a88f90b",
   "metadata": {},
   "outputs": [],
   "source": [
    "x_train = scaler.transform(x_train)\n",
    "x_test = scaler.transform(x_test)"
   ]
  },
  {
   "cell_type": "markdown",
   "id": "d954b0ef",
   "metadata": {},
   "source": [
    "## model building"
   ]
  },
  {
   "cell_type": "code",
   "execution_count": 18,
   "id": "1ee9a83a",
   "metadata": {},
   "outputs": [],
   "source": [
    "from keras.models import Sequential\n",
    "from keras.layers import Dense"
   ]
  },
  {
   "cell_type": "markdown",
   "id": "487fa8b6",
   "metadata": {},
   "source": [
    "for linear regression, we need to have output layer as : (Dense(1, activation=\"linear\")) "
   ]
  },
  {
   "cell_type": "code",
   "execution_count": 25,
   "id": "3d3fe39d",
   "metadata": {},
   "outputs": [],
   "source": [
    "model = Sequential()\n",
    "\n",
    "model.add(Dense(128, input_shape=(6,), activation=\"relu\"))   # 6 bec we have selected features\n",
    "model.add(Dense(64, activation=\"relu\"))\n",
    "model.add(Dense(16, activation=\"relu\"))\n",
    "model.add(Dense(1, activation=\"linear\", name=\"output\"))         # linear bec linear regession"
   ]
  },
  {
   "cell_type": "code",
   "execution_count": 26,
   "id": "27b47fdb",
   "metadata": {},
   "outputs": [
    {
     "name": "stdout",
     "output_type": "stream",
     "text": [
      "Model: \"sequential_1\"\n",
      "_________________________________________________________________\n",
      " Layer (type)                Output Shape              Param #   \n",
      "=================================================================\n",
      " dense_4 (Dense)             (None, 128)               896       \n",
      "                                                                 \n",
      " dense_5 (Dense)             (None, 64)                8256      \n",
      "                                                                 \n",
      " dense_6 (Dense)             (None, 16)                1040      \n",
      "                                                                 \n",
      " output (Dense)              (None, 1)                 17        \n",
      "                                                                 \n",
      "=================================================================\n",
      "Total params: 10,209\n",
      "Trainable params: 10,209\n",
      "Non-trainable params: 0\n",
      "_________________________________________________________________\n"
     ]
    }
   ],
   "source": [
    "model.summary()"
   ]
  },
  {
   "cell_type": "code",
   "execution_count": 27,
   "id": "817ea531",
   "metadata": {},
   "outputs": [],
   "source": [
    "model.compile(optimizer=\"adam\", loss=\"mse\", metrics=[\"mae\"])"
   ]
  },
  {
   "cell_type": "code",
   "execution_count": 28,
   "id": "48bc751c",
   "metadata": {},
   "outputs": [
    {
     "name": "stdout",
     "output_type": "stream",
     "text": [
      "Epoch 1/100\n",
      "11/11 [==============================] - 0s 17ms/step - loss: 590.8333 - mae: 22.5305 - val_loss: 568.9437 - val_mae: 21.8307\n",
      "Epoch 2/100\n",
      "11/11 [==============================] - 0s 5ms/step - loss: 562.8642 - mae: 21.8879 - val_loss: 532.1019 - val_mae: 20.9755\n",
      "Epoch 3/100\n",
      "11/11 [==============================] - 0s 5ms/step - loss: 517.7043 - mae: 20.8146 - val_loss: 469.4820 - val_mae: 19.4234\n",
      "Epoch 4/100\n",
      "11/11 [==============================] - 0s 4ms/step - loss: 442.0678 - mae: 18.9209 - val_loss: 368.7720 - val_mae: 16.8180\n",
      "Epoch 5/100\n",
      "11/11 [==============================] - 0s 6ms/step - loss: 324.8300 - mae: 15.6712 - val_loss: 228.1121 - val_mae: 13.0701\n",
      "Epoch 6/100\n",
      "11/11 [==============================] - 0s 4ms/step - loss: 180.8094 - mae: 11.6191 - val_loss: 96.3198 - val_mae: 8.0441\n",
      "Epoch 7/100\n",
      "11/11 [==============================] - 0s 4ms/step - loss: 69.1145 - mae: 6.7460 - val_loss: 51.4026 - val_mae: 5.0193\n",
      "Epoch 8/100\n",
      "11/11 [==============================] - 0s 4ms/step - loss: 48.0997 - mae: 5.4689 - val_loss: 56.4409 - val_mae: 5.6222\n",
      "Epoch 9/100\n",
      "11/11 [==============================] - 0s 5ms/step - loss: 38.6386 - mae: 4.8161 - val_loss: 37.5151 - val_mae: 4.3767\n",
      "Epoch 10/100\n",
      "11/11 [==============================] - 0s 3ms/step - loss: 33.4821 - mae: 4.2590 - val_loss: 31.9024 - val_mae: 3.9356\n",
      "Epoch 11/100\n",
      "11/11 [==============================] - 0s 5ms/step - loss: 29.6359 - mae: 3.9679 - val_loss: 31.5804 - val_mae: 4.0894\n",
      "Epoch 12/100\n",
      "11/11 [==============================] - 0s 4ms/step - loss: 27.4383 - mae: 3.8685 - val_loss: 28.4842 - val_mae: 3.8661\n",
      "Epoch 13/100\n",
      "11/11 [==============================] - 0s 4ms/step - loss: 25.3037 - mae: 3.6773 - val_loss: 25.8631 - val_mae: 3.6652\n",
      "Epoch 14/100\n",
      "11/11 [==============================] - 0s 3ms/step - loss: 24.1013 - mae: 3.5154 - val_loss: 24.0352 - val_mae: 3.4841\n",
      "Epoch 15/100\n",
      "11/11 [==============================] - 0s 4ms/step - loss: 22.9145 - mae: 3.4180 - val_loss: 23.5418 - val_mae: 3.5226\n",
      "Epoch 16/100\n",
      "11/11 [==============================] - 0s 4ms/step - loss: 22.0352 - mae: 3.3823 - val_loss: 22.1171 - val_mae: 3.4292\n",
      "Epoch 17/100\n",
      "11/11 [==============================] - 0s 4ms/step - loss: 21.2671 - mae: 3.3184 - val_loss: 20.9564 - val_mae: 3.3393\n",
      "Epoch 18/100\n",
      "11/11 [==============================] - 0s 4ms/step - loss: 20.4897 - mae: 3.2822 - val_loss: 21.2040 - val_mae: 3.3950\n",
      "Epoch 19/100\n",
      "11/11 [==============================] - 0s 4ms/step - loss: 20.1098 - mae: 3.2430 - val_loss: 19.1137 - val_mae: 3.1578\n",
      "Epoch 20/100\n",
      "11/11 [==============================] - 0s 5ms/step - loss: 19.4359 - mae: 3.1350 - val_loss: 18.4612 - val_mae: 3.1016\n",
      "Epoch 21/100\n",
      "11/11 [==============================] - 0s 5ms/step - loss: 19.0482 - mae: 3.1421 - val_loss: 18.6120 - val_mae: 3.1911\n",
      "Epoch 22/100\n",
      "11/11 [==============================] - 0s 5ms/step - loss: 19.0645 - mae: 3.2563 - val_loss: 17.9391 - val_mae: 3.2317\n",
      "Epoch 23/100\n",
      "11/11 [==============================] - 0s 5ms/step - loss: 18.9841 - mae: 3.2150 - val_loss: 16.7993 - val_mae: 3.0799\n",
      "Epoch 24/100\n",
      "11/11 [==============================] - 0s 5ms/step - loss: 17.9486 - mae: 3.0649 - val_loss: 15.8807 - val_mae: 2.9288\n",
      "Epoch 25/100\n",
      "11/11 [==============================] - 0s 6ms/step - loss: 17.5625 - mae: 3.0115 - val_loss: 16.2636 - val_mae: 2.9941\n",
      "Epoch 26/100\n",
      "11/11 [==============================] - ETA: 0s - loss: 7.1327 - mae: 2.170 - 0s 5ms/step - loss: 17.2391 - mae: 3.0260 - val_loss: 16.3085 - val_mae: 3.0137\n",
      "Epoch 27/100\n",
      "11/11 [==============================] - 0s 5ms/step - loss: 16.8803 - mae: 3.0047 - val_loss: 15.7663 - val_mae: 2.9488\n",
      "Epoch 28/100\n",
      "11/11 [==============================] - 0s 5ms/step - loss: 16.7591 - mae: 2.9606 - val_loss: 14.9944 - val_mae: 2.8697\n",
      "Epoch 29/100\n",
      "11/11 [==============================] - 0s 5ms/step - loss: 16.5111 - mae: 2.9785 - val_loss: 15.2979 - val_mae: 2.9031\n",
      "Epoch 30/100\n",
      "11/11 [==============================] - 0s 6ms/step - loss: 16.4678 - mae: 2.9216 - val_loss: 15.3112 - val_mae: 2.8665\n",
      "Epoch 31/100\n",
      "11/11 [==============================] - 0s 5ms/step - loss: 16.0351 - mae: 2.9214 - val_loss: 15.7346 - val_mae: 2.9663\n",
      "Epoch 32/100\n",
      "11/11 [==============================] - 0s 5ms/step - loss: 15.7020 - mae: 2.9104 - val_loss: 14.7649 - val_mae: 2.8161\n",
      "Epoch 33/100\n",
      "11/11 [==============================] - 0s 7ms/step - loss: 15.6243 - mae: 2.8533 - val_loss: 14.3107 - val_mae: 2.7873\n",
      "Epoch 34/100\n",
      "11/11 [==============================] - 0s 5ms/step - loss: 15.2028 - mae: 2.8499 - val_loss: 14.9968 - val_mae: 2.9071\n",
      "Epoch 35/100\n",
      "11/11 [==============================] - 0s 6ms/step - loss: 15.1346 - mae: 2.8878 - val_loss: 14.5581 - val_mae: 2.8455\n",
      "Epoch 36/100\n",
      "11/11 [==============================] - 0s 6ms/step - loss: 15.2208 - mae: 2.8856 - val_loss: 13.7553 - val_mae: 2.7374\n",
      "Epoch 37/100\n",
      "11/11 [==============================] - 0s 6ms/step - loss: 14.9413 - mae: 2.8153 - val_loss: 13.8756 - val_mae: 2.7351\n",
      "Epoch 38/100\n",
      "11/11 [==============================] - 0s 7ms/step - loss: 14.6495 - mae: 2.8046 - val_loss: 14.2621 - val_mae: 2.8040\n",
      "Epoch 39/100\n",
      "11/11 [==============================] - 0s 7ms/step - loss: 14.8899 - mae: 2.8128 - val_loss: 16.1736 - val_mae: 3.0035\n",
      "Epoch 40/100\n",
      "11/11 [==============================] - 0s 5ms/step - loss: 15.1840 - mae: 2.8822 - val_loss: 17.6842 - val_mae: 3.1930\n",
      "Epoch 41/100\n",
      "11/11 [==============================] - 0s 5ms/step - loss: 14.4961 - mae: 2.8143 - val_loss: 15.4323 - val_mae: 2.8734\n",
      "Epoch 42/100\n",
      "11/11 [==============================] - 0s 5ms/step - loss: 14.0255 - mae: 2.7506 - val_loss: 15.0201 - val_mae: 2.8450\n",
      "Epoch 43/100\n",
      "11/11 [==============================] - 0s 5ms/step - loss: 14.0203 - mae: 2.7421 - val_loss: 14.2709 - val_mae: 2.7526\n",
      "Epoch 44/100\n",
      "11/11 [==============================] - 0s 5ms/step - loss: 13.6564 - mae: 2.7123 - val_loss: 13.7737 - val_mae: 2.7143\n",
      "Epoch 45/100\n",
      "11/11 [==============================] - 0s 5ms/step - loss: 13.4918 - mae: 2.6949 - val_loss: 12.9357 - val_mae: 2.5924\n",
      "Epoch 46/100\n",
      "11/11 [==============================] - 0s 7ms/step - loss: 13.5913 - mae: 2.6906 - val_loss: 12.8545 - val_mae: 2.6062\n",
      "Epoch 47/100\n",
      "11/11 [==============================] - 0s 5ms/step - loss: 13.4462 - mae: 2.7126 - val_loss: 12.9164 - val_mae: 2.6621\n",
      "Epoch 48/100\n",
      "11/11 [==============================] - 0s 6ms/step - loss: 13.2171 - mae: 2.6807 - val_loss: 12.0296 - val_mae: 2.4719\n",
      "Epoch 49/100\n",
      "11/11 [==============================] - 0s 6ms/step - loss: 13.0491 - mae: 2.6369 - val_loss: 12.5975 - val_mae: 2.6042\n",
      "Epoch 50/100\n",
      "11/11 [==============================] - 0s 5ms/step - loss: 12.7903 - mae: 2.6392 - val_loss: 12.5575 - val_mae: 2.6012\n",
      "Epoch 51/100\n",
      "11/11 [==============================] - 0s 5ms/step - loss: 12.7335 - mae: 2.6133 - val_loss: 11.9616 - val_mae: 2.5154\n",
      "Epoch 52/100\n",
      "11/11 [==============================] - 0s 5ms/step - loss: 12.6728 - mae: 2.6215 - val_loss: 12.2735 - val_mae: 2.5827\n",
      "Epoch 53/100\n",
      "11/11 [==============================] - 0s 5ms/step - loss: 12.4137 - mae: 2.6084 - val_loss: 12.5213 - val_mae: 2.6489\n",
      "Epoch 54/100\n",
      "11/11 [==============================] - 0s 5ms/step - loss: 12.7977 - mae: 2.6624 - val_loss: 12.5561 - val_mae: 2.6524\n",
      "Epoch 55/100\n",
      "11/11 [==============================] - 0s 5ms/step - loss: 12.2863 - mae: 2.5873 - val_loss: 11.6396 - val_mae: 2.4627\n",
      "Epoch 56/100\n",
      "11/11 [==============================] - 0s 4ms/step - loss: 12.3244 - mae: 2.5939 - val_loss: 11.9940 - val_mae: 2.5426\n",
      "Epoch 57/100\n",
      "11/11 [==============================] - 0s 4ms/step - loss: 12.1240 - mae: 2.5626 - val_loss: 12.2678 - val_mae: 2.5801\n",
      "Epoch 58/100\n",
      "11/11 [==============================] - 0s 4ms/step - loss: 12.1262 - mae: 2.5704 - val_loss: 12.4028 - val_mae: 2.6207\n",
      "Epoch 59/100\n",
      "11/11 [==============================] - 0s 5ms/step - loss: 11.7580 - mae: 2.5370 - val_loss: 11.8643 - val_mae: 2.5242\n",
      "Epoch 60/100\n",
      "11/11 [==============================] - 0s 5ms/step - loss: 11.6658 - mae: 2.5295 - val_loss: 11.6562 - val_mae: 2.4951\n",
      "Epoch 61/100\n",
      "11/11 [==============================] - 0s 4ms/step - loss: 11.7519 - mae: 2.5411 - val_loss: 11.2658 - val_mae: 2.4110\n"
     ]
    },
    {
     "name": "stdout",
     "output_type": "stream",
     "text": [
      "Epoch 62/100\n",
      "11/11 [==============================] - 0s 4ms/step - loss: 11.8219 - mae: 2.5409 - val_loss: 11.4867 - val_mae: 2.4535\n",
      "Epoch 63/100\n",
      "11/11 [==============================] - 0s 4ms/step - loss: 11.5122 - mae: 2.5157 - val_loss: 11.8233 - val_mae: 2.5186\n",
      "Epoch 64/100\n",
      "11/11 [==============================] - 0s 4ms/step - loss: 11.5711 - mae: 2.5322 - val_loss: 11.2766 - val_mae: 2.3872\n",
      "Epoch 65/100\n",
      "11/11 [==============================] - 0s 3ms/step - loss: 11.5060 - mae: 2.5185 - val_loss: 11.7851 - val_mae: 2.5346\n",
      "Epoch 66/100\n",
      "11/11 [==============================] - 0s 5ms/step - loss: 11.1449 - mae: 2.4716 - val_loss: 11.1570 - val_mae: 2.3702\n",
      "Epoch 67/100\n",
      "11/11 [==============================] - 0s 4ms/step - loss: 11.2847 - mae: 2.4852 - val_loss: 11.3354 - val_mae: 2.4361\n",
      "Epoch 68/100\n",
      "11/11 [==============================] - 0s 4ms/step - loss: 10.9275 - mae: 2.4546 - val_loss: 10.7302 - val_mae: 2.3679\n",
      "Epoch 69/100\n",
      "11/11 [==============================] - 0s 4ms/step - loss: 11.6266 - mae: 2.5540 - val_loss: 10.4781 - val_mae: 2.3183\n",
      "Epoch 70/100\n",
      "11/11 [==============================] - 0s 3ms/step - loss: 11.0402 - mae: 2.4816 - val_loss: 10.8060 - val_mae: 2.3789\n",
      "Epoch 71/100\n",
      "11/11 [==============================] - 0s 4ms/step - loss: 11.0707 - mae: 2.5022 - val_loss: 10.9631 - val_mae: 2.4036\n",
      "Epoch 72/100\n",
      "11/11 [==============================] - 0s 4ms/step - loss: 11.1153 - mae: 2.4969 - val_loss: 11.0175 - val_mae: 2.3657\n",
      "Epoch 73/100\n",
      "11/11 [==============================] - 0s 4ms/step - loss: 11.2816 - mae: 2.4719 - val_loss: 11.9134 - val_mae: 2.5190\n",
      "Epoch 74/100\n",
      "11/11 [==============================] - 0s 4ms/step - loss: 10.7173 - mae: 2.4496 - val_loss: 10.8600 - val_mae: 2.3947\n",
      "Epoch 75/100\n",
      "11/11 [==============================] - 0s 4ms/step - loss: 10.4437 - mae: 2.4010 - val_loss: 10.7526 - val_mae: 2.3708\n",
      "Epoch 76/100\n",
      "11/11 [==============================] - 0s 4ms/step - loss: 10.5750 - mae: 2.4258 - val_loss: 10.7173 - val_mae: 2.4254\n",
      "Epoch 77/100\n",
      "11/11 [==============================] - 0s 5ms/step - loss: 10.2790 - mae: 2.3978 - val_loss: 10.1748 - val_mae: 2.2970\n",
      "Epoch 78/100\n",
      "11/11 [==============================] - 0s 4ms/step - loss: 10.3549 - mae: 2.3887 - val_loss: 11.0827 - val_mae: 2.3875\n",
      "Epoch 79/100\n",
      "11/11 [==============================] - 0s 4ms/step - loss: 10.0898 - mae: 2.3528 - val_loss: 10.5589 - val_mae: 2.3106\n",
      "Epoch 80/100\n",
      "11/11 [==============================] - 0s 4ms/step - loss: 10.1229 - mae: 2.3670 - val_loss: 10.1532 - val_mae: 2.2412\n",
      "Epoch 81/100\n",
      "11/11 [==============================] - 0s 4ms/step - loss: 10.0083 - mae: 2.3453 - val_loss: 10.2490 - val_mae: 2.2953\n",
      "Epoch 82/100\n",
      "11/11 [==============================] - 0s 4ms/step - loss: 9.8496 - mae: 2.3395 - val_loss: 10.1066 - val_mae: 2.2898\n",
      "Epoch 83/100\n",
      "11/11 [==============================] - 0s 4ms/step - loss: 9.9266 - mae: 2.3529 - val_loss: 10.0030 - val_mae: 2.2208\n",
      "Epoch 84/100\n",
      "11/11 [==============================] - 0s 3ms/step - loss: 9.9270 - mae: 2.3452 - val_loss: 10.2176 - val_mae: 2.2182\n",
      "Epoch 85/100\n",
      "11/11 [==============================] - 0s 4ms/step - loss: 9.6233 - mae: 2.2999 - val_loss: 10.7655 - val_mae: 2.3691\n",
      "Epoch 86/100\n",
      "11/11 [==============================] - 0s 4ms/step - loss: 9.6164 - mae: 2.3135 - val_loss: 9.8994 - val_mae: 2.2013\n",
      "Epoch 87/100\n",
      "11/11 [==============================] - 0s 4ms/step - loss: 9.6375 - mae: 2.3088 - val_loss: 9.5388 - val_mae: 2.1312\n",
      "Epoch 88/100\n",
      "11/11 [==============================] - 0s 5ms/step - loss: 9.3206 - mae: 2.2777 - val_loss: 9.3671 - val_mae: 2.1940\n",
      "Epoch 89/100\n",
      "11/11 [==============================] - 0s 4ms/step - loss: 9.4515 - mae: 2.2920 - val_loss: 9.4314 - val_mae: 2.1847\n",
      "Epoch 90/100\n",
      "11/11 [==============================] - 0s 3ms/step - loss: 9.4625 - mae: 2.3236 - val_loss: 9.8910 - val_mae: 2.2552\n",
      "Epoch 91/100\n",
      "11/11 [==============================] - 0s 4ms/step - loss: 9.3788 - mae: 2.2696 - val_loss: 9.5149 - val_mae: 2.1343\n",
      "Epoch 92/100\n",
      "11/11 [==============================] - 0s 4ms/step - loss: 9.1303 - mae: 2.2563 - val_loss: 9.9290 - val_mae: 2.2195\n",
      "Epoch 93/100\n",
      "11/11 [==============================] - 0s 4ms/step - loss: 9.0135 - mae: 2.2379 - val_loss: 9.6984 - val_mae: 2.1846\n",
      "Epoch 94/100\n",
      "11/11 [==============================] - 0s 4ms/step - loss: 9.1919 - mae: 2.2489 - val_loss: 9.1163 - val_mae: 2.0979\n",
      "Epoch 95/100\n",
      "11/11 [==============================] - 0s 4ms/step - loss: 8.8816 - mae: 2.2304 - val_loss: 9.5691 - val_mae: 2.2086\n",
      "Epoch 96/100\n",
      "11/11 [==============================] - 0s 4ms/step - loss: 9.0848 - mae: 2.2836 - val_loss: 9.7149 - val_mae: 2.2225\n",
      "Epoch 97/100\n",
      "11/11 [==============================] - 0s 4ms/step - loss: 8.8116 - mae: 2.2253 - val_loss: 9.2621 - val_mae: 2.0814\n",
      "Epoch 98/100\n",
      "11/11 [==============================] - 0s 4ms/step - loss: 8.9488 - mae: 2.2224 - val_loss: 9.7811 - val_mae: 2.2127\n",
      "Epoch 99/100\n",
      "11/11 [==============================] - 0s 4ms/step - loss: 8.6961 - mae: 2.1863 - val_loss: 9.4589 - val_mae: 2.1414\n",
      "Epoch 100/100\n",
      "11/11 [==============================] - 0s 4ms/step - loss: 9.0206 - mae: 2.2564 - val_loss: 9.8354 - val_mae: 2.1718\n"
     ]
    },
    {
     "data": {
      "text/plain": [
       "<keras.callbacks.History at 0x24201f00670>"
      ]
     },
     "execution_count": 28,
     "metadata": {},
     "output_type": "execute_result"
    }
   ],
   "source": [
    "model.fit(x_train, y_train, epochs=100, validation_split=0.2)"
   ]
  },
  {
   "cell_type": "code",
   "execution_count": 29,
   "id": "bfb18db8",
   "metadata": {},
   "outputs": [
    {
     "name": "stdout",
     "output_type": "stream",
     "text": [
      "4/4 [==============================] - 0s 1ms/step - loss: 25.7270 - mae: 3.1950\n"
     ]
    },
    {
     "data": {
      "text/plain": [
       "[25.727035522460938, 3.1949636936187744]"
      ]
     },
     "execution_count": 29,
     "metadata": {},
     "output_type": "execute_result"
    }
   ],
   "source": [
    "eval = model.evaluate(x_test, y_test)\n",
    "eval"
   ]
  },
  {
   "cell_type": "code",
   "execution_count": 31,
   "id": "e824e7d1",
   "metadata": {},
   "outputs": [
    {
     "name": "stdout",
     "output_type": "stream",
     "text": [
      "mse :  25.727035522460938\n",
      "mae :  3.1949636936187744\n"
     ]
    }
   ],
   "source": [
    "print(\"mse : \", eval[0])\n",
    "print(\"mae : \", eval[1])"
   ]
  },
  {
   "cell_type": "code",
   "execution_count": 32,
   "id": "ec36733c",
   "metadata": {},
   "outputs": [],
   "source": [
    "y_pred = model.predict(x_test)"
   ]
  },
  {
   "cell_type": "code",
   "execution_count": 34,
   "id": "55e487c0",
   "metadata": {},
   "outputs": [
    {
     "data": {
      "image/png": "[encoded data removed]",
      "text/plain": [
       "<Figure size 432x288 with 1 Axes>"
      ]
     },
     "metadata": {
      "needs_background": "light"
     },
     "output_type": "display_data"
    }
   ],
   "source": [
    "plt.scatter(y_test, y_pred)\n",
    "plt.show()"
   ]
  },
  {
   "cell_type": "code",
   "execution_count": null,
   "id": "283c4600",
   "metadata": {},
   "outputs": [],
   "source": []
  }
 ],
 "metadata": {
  "kernelspec": {
   "display_name": "Python 3",
   "language": "python",
   "name": "python3"
  },
  "language_info": {
   "codemirror_mode": {
    "name": "ipython",
    "version": 3
   },
   "file_extension": ".py",
   "mimetype": "text/x-python",
   "name": "python",
   "nbconvert_exporter": "python",
   "pygments_lexer": "ipython3",
   "version": "3.8.8"
  }
 },
 "nbformat": 4,
 "nbformat_minor": 5
}
