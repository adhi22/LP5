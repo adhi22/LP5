{
 "cells": [
  {
   "cell_type": "code",
   "execution_count": 1,
   "id": "2b39e857",
   "metadata": {},
   "outputs": [],
   "source": [
    "import matplotlib.pyplot as plt\n",
    "import pandas as pd\n",
    "import numpy as np"
   ]
  },
  {
   "cell_type": "markdown",
   "id": "e8fbb923",
   "metadata": {},
   "source": [
    "### Load Dataset"
   ]
  },
  {
   "cell_type": "code",
   "execution_count": 2,
   "id": "57c7b9de",
   "metadata": {},
   "outputs": [],
   "source": [
    "train_df = pd.read_csv('fashion-mnist_train.csv')\n",
    "test_df = pd.read_csv('fashion-mnist_test.csv')"
   ]
  },
  {
   "cell_type": "code",
   "execution_count": 3,
   "id": "2c63a80b",
   "metadata": {},
   "outputs": [
    {
     "data": {
      "text/plain": [
       "(60000, 785)"
      ]
     },
     "execution_count": 3,
     "metadata": {},
     "output_type": "execute_result"
    }
   ],
   "source": [
    "train_df.shape"
   ]
  },
  {
   "cell_type": "code",
   "execution_count": 4,
   "id": "e3fedda8",
   "metadata": {},
   "outputs": [
    {
     "data": {
      "text/plain": [
       "(10000, 785)"
      ]
     },
     "execution_count": 4,
     "metadata": {},
     "output_type": "execute_result"
    }
   ],
   "source": [
    "test_df.shape"
   ]
  },
  {
   "cell_type": "code",
   "execution_count": 5,
   "id": "2de1572b",
   "metadata": {},
   "outputs": [
    {
     "data": {
      "text/html": [
       "<div>\n",
       "<style scoped>\n",
       "    .dataframe tbody tr th:only-of-type {\n",
       "        vertical-align: middle;\n",
       "    }\n",
       "\n",
       "    .dataframe tbody tr th {\n",
       "        vertical-align: top;\n",
       "    }\n",
       "\n",
       "    .dataframe thead th {\n",
       "        text-align: right;\n",
       "    }\n",
       "</style>\n",
       "<table border=\"1\" class=\"dataframe\">\n",
       "  <thead>\n",
       "    <tr style=\"text-align: right;\">\n",
       "      <th></th>\n",
       "      <th>label</th>\n",
       "      <th>pixel1</th>\n",
       "      <th>pixel2</th>\n",
       "      <th>pixel3</th>\n",
       "      <th>pixel4</th>\n",
       "      <th>pixel5</th>\n",
       "      <th>pixel6</th>\n",
       "      <th>pixel7</th>\n",
       "      <th>pixel8</th>\n",
       "      <th>pixel9</th>\n",
       "      <th>...</th>\n",
       "      <th>pixel775</th>\n",
       "      <th>pixel776</th>\n",
       "      <th>pixel777</th>\n",
       "      <th>pixel778</th>\n",
       "      <th>pixel779</th>\n",
       "      <th>pixel780</th>\n",
       "      <th>pixel781</th>\n",
       "      <th>pixel782</th>\n",
       "      <th>pixel783</th>\n",
       "      <th>pixel784</th>\n",
       "    </tr>\n",
       "  </thead>\n",
       "  <tbody>\n",
       "    <tr>\n",
       "      <th>count</th>\n",
       "      <td>60000.000000</td>\n",
       "      <td>60000.000000</td>\n",
       "      <td>60000.000000</td>\n",
       "      <td>60000.000000</td>\n",
       "      <td>60000.000000</td>\n",
       "      <td>60000.000000</td>\n",
       "      <td>60000.000000</td>\n",
       "      <td>60000.000000</td>\n",
       "      <td>60000.000000</td>\n",
       "      <td>60000.000000</td>\n",
       "      <td>...</td>\n",
       "      <td>60000.000000</td>\n",
       "      <td>60000.000000</td>\n",
       "      <td>60000.000000</td>\n",
       "      <td>60000.000000</td>\n",
       "      <td>60000.000000</td>\n",
       "      <td>60000.000000</td>\n",
       "      <td>60000.000000</td>\n",
       "      <td>60000.000000</td>\n",
       "      <td>60000.000000</td>\n",
       "      <td>60000.00000</td>\n",
       "    </tr>\n",
       "    <tr>\n",
       "      <th>mean</th>\n",
       "      <td>4.500000</td>\n",
       "      <td>0.000900</td>\n",
       "      <td>0.006150</td>\n",
       "      <td>0.035333</td>\n",
       "      <td>0.101933</td>\n",
       "      <td>0.247967</td>\n",
       "      <td>0.411467</td>\n",
       "      <td>0.805767</td>\n",
       "      <td>2.198283</td>\n",
       "      <td>5.682000</td>\n",
       "      <td>...</td>\n",
       "      <td>34.625400</td>\n",
       "      <td>23.300683</td>\n",
       "      <td>16.588267</td>\n",
       "      <td>17.869433</td>\n",
       "      <td>22.814817</td>\n",
       "      <td>17.911483</td>\n",
       "      <td>8.520633</td>\n",
       "      <td>2.753300</td>\n",
       "      <td>0.855517</td>\n",
       "      <td>0.07025</td>\n",
       "    </tr>\n",
       "    <tr>\n",
       "      <th>std</th>\n",
       "      <td>2.872305</td>\n",
       "      <td>0.094689</td>\n",
       "      <td>0.271011</td>\n",
       "      <td>1.222324</td>\n",
       "      <td>2.452871</td>\n",
       "      <td>4.306912</td>\n",
       "      <td>5.836188</td>\n",
       "      <td>8.215169</td>\n",
       "      <td>14.093378</td>\n",
       "      <td>23.819481</td>\n",
       "      <td>...</td>\n",
       "      <td>57.545242</td>\n",
       "      <td>48.854427</td>\n",
       "      <td>41.979611</td>\n",
       "      <td>43.966032</td>\n",
       "      <td>51.830477</td>\n",
       "      <td>45.149388</td>\n",
       "      <td>29.614859</td>\n",
       "      <td>17.397652</td>\n",
       "      <td>9.356960</td>\n",
       "      <td>2.12587</td>\n",
       "    </tr>\n",
       "    <tr>\n",
       "      <th>min</th>\n",
       "      <td>0.000000</td>\n",
       "      <td>0.000000</td>\n",
       "      <td>0.000000</td>\n",
       "      <td>0.000000</td>\n",
       "      <td>0.000000</td>\n",
       "      <td>0.000000</td>\n",
       "      <td>0.000000</td>\n",
       "      <td>0.000000</td>\n",
       "      <td>0.000000</td>\n",
       "      <td>0.000000</td>\n",
       "      <td>...</td>\n",
       "      <td>0.000000</td>\n",
       "      <td>0.000000</td>\n",
       "      <td>0.000000</td>\n",
       "      <td>0.000000</td>\n",
       "      <td>0.000000</td>\n",
       "      <td>0.000000</td>\n",
       "      <td>0.000000</td>\n",
       "      <td>0.000000</td>\n",
       "      <td>0.000000</td>\n",
       "      <td>0.00000</td>\n",
       "    </tr>\n",
       "    <tr>\n",
       "      <th>25%</th>\n",
       "      <td>2.000000</td>\n",
       "      <td>0.000000</td>\n",
       "      <td>0.000000</td>\n",
       "      <td>0.000000</td>\n",
       "      <td>0.000000</td>\n",
       "      <td>0.000000</td>\n",
       "      <td>0.000000</td>\n",
       "      <td>0.000000</td>\n",
       "      <td>0.000000</td>\n",
       "      <td>0.000000</td>\n",
       "      <td>...</td>\n",
       "      <td>0.000000</td>\n",
       "      <td>0.000000</td>\n",
       "      <td>0.000000</td>\n",
       "      <td>0.000000</td>\n",
       "      <td>0.000000</td>\n",
       "      <td>0.000000</td>\n",
       "      <td>0.000000</td>\n",
       "      <td>0.000000</td>\n",
       "      <td>0.000000</td>\n",
       "      <td>0.00000</td>\n",
       "    </tr>\n",
       "    <tr>\n",
       "      <th>50%</th>\n",
       "      <td>4.500000</td>\n",
       "      <td>0.000000</td>\n",
       "      <td>0.000000</td>\n",
       "      <td>0.000000</td>\n",
       "      <td>0.000000</td>\n",
       "      <td>0.000000</td>\n",
       "      <td>0.000000</td>\n",
       "      <td>0.000000</td>\n",
       "      <td>0.000000</td>\n",
       "      <td>0.000000</td>\n",
       "      <td>...</td>\n",
       "      <td>0.000000</td>\n",
       "      <td>0.000000</td>\n",
       "      <td>0.000000</td>\n",
       "      <td>0.000000</td>\n",
       "      <td>0.000000</td>\n",
       "      <td>0.000000</td>\n",
       "      <td>0.000000</td>\n",
       "      <td>0.000000</td>\n",
       "      <td>0.000000</td>\n",
       "      <td>0.00000</td>\n",
       "    </tr>\n",
       "    <tr>\n",
       "      <th>75%</th>\n",
       "      <td>7.000000</td>\n",
       "      <td>0.000000</td>\n",
       "      <td>0.000000</td>\n",
       "      <td>0.000000</td>\n",
       "      <td>0.000000</td>\n",
       "      <td>0.000000</td>\n",
       "      <td>0.000000</td>\n",
       "      <td>0.000000</td>\n",
       "      <td>0.000000</td>\n",
       "      <td>0.000000</td>\n",
       "      <td>...</td>\n",
       "      <td>58.000000</td>\n",
       "      <td>9.000000</td>\n",
       "      <td>0.000000</td>\n",
       "      <td>0.000000</td>\n",
       "      <td>0.000000</td>\n",
       "      <td>0.000000</td>\n",
       "      <td>0.000000</td>\n",
       "      <td>0.000000</td>\n",
       "      <td>0.000000</td>\n",
       "      <td>0.00000</td>\n",
       "    </tr>\n",
       "    <tr>\n",
       "      <th>max</th>\n",
       "      <td>9.000000</td>\n",
       "      <td>16.000000</td>\n",
       "      <td>36.000000</td>\n",
       "      <td>226.000000</td>\n",
       "      <td>164.000000</td>\n",
       "      <td>227.000000</td>\n",
       "      <td>230.000000</td>\n",
       "      <td>224.000000</td>\n",
       "      <td>255.000000</td>\n",
       "      <td>254.000000</td>\n",
       "      <td>...</td>\n",
       "      <td>255.000000</td>\n",
       "      <td>255.000000</td>\n",
       "      <td>255.000000</td>\n",
       "      <td>255.000000</td>\n",
       "      <td>255.000000</td>\n",
       "      <td>255.000000</td>\n",
       "      <td>255.000000</td>\n",
       "      <td>255.000000</td>\n",
       "      <td>255.000000</td>\n",
       "      <td>170.00000</td>\n",
       "    </tr>\n",
       "  </tbody>\n",
       "</table>\n",
       "<p>8 rows × 785 columns</p>\n",
       "</div>"
      ],
      "text/plain": [
       "              label        pixel1        pixel2        pixel3        pixel4  \\\n",
       "count  60000.000000  60000.000000  60000.000000  60000.000000  60000.000000   \n",
       "mean       4.500000      0.000900      0.006150      0.035333      0.101933   \n",
       "std        2.872305      0.094689      0.271011      1.222324      2.452871   \n",
       "min        0.000000      0.000000      0.000000      0.000000      0.000000   \n",
       "25%        2.000000      0.000000      0.000000      0.000000      0.000000   \n",
       "50%        4.500000      0.000000      0.000000      0.000000      0.000000   \n",
       "75%        7.000000      0.000000      0.000000      0.000000      0.000000   \n",
       "max        9.000000     16.000000     36.000000    226.000000    164.000000   \n",
       "\n",
       "             pixel5        pixel6        pixel7        pixel8        pixel9  \\\n",
       "count  60000.000000  60000.000000  60000.000000  60000.000000  60000.000000   \n",
       "mean       0.247967      0.411467      0.805767      2.198283      5.682000   \n",
       "std        4.306912      5.836188      8.215169     14.093378     23.819481   \n",
       "min        0.000000      0.000000      0.000000      0.000000      0.000000   \n",
       "25%        0.000000      0.000000      0.000000      0.000000      0.000000   \n",
       "50%        0.000000      0.000000      0.000000      0.000000      0.000000   \n",
       "75%        0.000000      0.000000      0.000000      0.000000      0.000000   \n",
       "max      227.000000    230.000000    224.000000    255.000000    254.000000   \n",
       "\n",
       "       ...      pixel775      pixel776      pixel777      pixel778  \\\n",
       "count  ...  60000.000000  60000.000000  60000.000000  60000.000000   \n",
       "mean   ...     34.625400     23.300683     16.588267     17.869433   \n",
       "std    ...     57.545242     48.854427     41.979611     43.966032   \n",
       "min    ...      0.000000      0.000000      0.000000      0.000000   \n",
       "25%    ...      0.000000      0.000000      0.000000      0.000000   \n",
       "50%    ...      0.000000      0.000000      0.000000      0.000000   \n",
       "75%    ...     58.000000      9.000000      0.000000      0.000000   \n",
       "max    ...    255.000000    255.000000    255.000000    255.000000   \n",
       "\n",
       "           pixel779      pixel780      pixel781      pixel782      pixel783  \\\n",
       "count  60000.000000  60000.000000  60000.000000  60000.000000  60000.000000   \n",
       "mean      22.814817     17.911483      8.520633      2.753300      0.855517   \n",
       "std       51.830477     45.149388     29.614859     17.397652      9.356960   \n",
       "min        0.000000      0.000000      0.000000      0.000000      0.000000   \n",
       "25%        0.000000      0.000000      0.000000      0.000000      0.000000   \n",
       "50%        0.000000      0.000000      0.000000      0.000000      0.000000   \n",
       "75%        0.000000      0.000000      0.000000      0.000000      0.000000   \n",
       "max      255.000000    255.000000    255.000000    255.000000    255.000000   \n",
       "\n",
       "          pixel784  \n",
       "count  60000.00000  \n",
       "mean       0.07025  \n",
       "std        2.12587  \n",
       "min        0.00000  \n",
       "25%        0.00000  \n",
       "50%        0.00000  \n",
       "75%        0.00000  \n",
       "max      170.00000  \n",
       "\n",
       "[8 rows x 785 columns]"
      ]
     },
     "execution_count": 5,
     "metadata": {},
     "output_type": "execute_result"
    }
   ],
   "source": [
    "train_df.describe()"
   ]
  },
  {
   "cell_type": "code",
   "execution_count": 6,
   "id": "abf94b0d",
   "metadata": {},
   "outputs": [
    {
     "data": {
      "text/plain": [
       "array([2, 9, 6, 0, 3, 4, 5, 8, 7, 1], dtype=int64)"
      ]
     },
     "execution_count": 6,
     "metadata": {},
     "output_type": "execute_result"
    }
   ],
   "source": [
    "train_df.label.unique()"
   ]
  },
  {
   "cell_type": "markdown",
   "id": "3c7c73da",
   "metadata": {},
   "source": [
    "#### Each row represents an grayscale image containing 784 pixels and each pixel having values in range from 0-255  \n",
    "#### The column label is a discrete value in the range 0 to 9 each value representing a specific category"
   ]
  },
  {
   "cell_type": "code",
   "execution_count": 7,
   "id": "701d9260",
   "metadata": {},
   "outputs": [],
   "source": [
    "class_names = ['T-shirt/top', 'Trouser', 'Pullover', 'Dress', 'Coat','Sandal', 'Shirt', 'Sneaker', 'Bag', 'Ankle boot']"
   ]
  },
  {
   "cell_type": "markdown",
   "id": "6f655d59",
   "metadata": {},
   "source": [
    "### Preprocess Data  \n",
    "Convert each image of 784 into (28x28x1)(height x width x color_channels). Divide values by 255 to scale the values."
   ]
  },
  {
   "cell_type": "code",
   "execution_count": 8,
   "id": "b5b6bceb",
   "metadata": {},
   "outputs": [],
   "source": [
    "x_train = train_df.iloc[:,1:].to_numpy()\n",
    "x_train = x_train.reshape([-1,28,28,1])\n",
    "x_train = x_train / 255"
   ]
  },
  {
   "cell_type": "code",
   "execution_count": 9,
   "id": "929ed61b",
   "metadata": {},
   "outputs": [],
   "source": [
    "y_train = train_df.iloc[:,0].to_numpy()"
   ]
  },
  {
   "cell_type": "code",
   "execution_count": 10,
   "id": "83d71088",
   "metadata": {},
   "outputs": [],
   "source": [
    "x_test = test_df.iloc[:,1:].to_numpy()\n",
    "x_test = x_test.reshape([-1,28,28,1])\n",
    "x_test = x_test / 255"
   ]
  },
  {
   "cell_type": "code",
   "execution_count": 11,
   "id": "9d5a397c",
   "metadata": {},
   "outputs": [],
   "source": [
    "y_test = test_df.iloc[:,0].to_numpy()"
   ]
  },
  {
   "cell_type": "markdown",
   "id": "23bf2d77",
   "metadata": {},
   "source": [
    "### Visualization"
   ]
  },
  {
   "cell_type": "code",
   "execution_count": 12,
   "id": "76f8bca7",
   "metadata": {},
   "outputs": [
    {
     "data": {
      "image/png": "[encoded data removed]",
      "text/plain": [
       "<Figure size 720x720 with 25 Axes>"
      ]
     },
     "metadata": {},
     "output_type": "display_data"
    }
   ],
   "source": [
    "plt.figure(figsize=(10,10))\n",
    "for i in range(25):\n",
    "    plt.subplot(5,5,i+1)\n",
    "    plt.xticks([])\n",
    "    plt.yticks([])\n",
    "    plt.grid(False)\n",
    "    plt.imshow(x_train[i], cmap=plt.cm.binary)\n",
    "    plt.xlabel(class_names[y_train[i]])\n",
    "plt.show()"
   ]
  },
  {
   "cell_type": "markdown",
   "id": "c7d6ac6e",
   "metadata": {},
   "source": [
    "### Model Building"
   ]
  },
  {
   "cell_type": "code",
   "execution_count": 13,
   "id": "141588e0",
   "metadata": {},
   "outputs": [],
   "source": [
    "from keras.models import Sequential\n",
    "from keras.layers import Dense,Conv2D,Flatten,MaxPooling2D,Dropout"
   ]
  },
  {
   "cell_type": "code",
   "execution_count": 14,
   "id": "3f19f868",
   "metadata": {},
   "outputs": [
    {
     "name": "stdout",
     "output_type": "stream",
     "text": [
      "Model: \"sequential\"\n",
      "_________________________________________________________________\n",
      " Layer (type)                Output Shape              Param #   \n",
      "=================================================================\n",
      " conv2d (Conv2D)             (None, 26, 26, 64)        640       \n",
      "                                                                 \n",
      " max_pooling2d (MaxPooling2D  (None, 13, 13, 64)       0         \n",
      " )                                                               \n",
      "                                                                 \n",
      " dropout (Dropout)           (None, 13, 13, 64)        0         \n",
      "                                                                 \n",
      " flatten (Flatten)           (None, 10816)             0         \n",
      "                                                                 \n",
      " dense (Dense)               (None, 32)                346144    \n",
      "                                                                 \n",
      " dense_1 (Dense)             (None, 10)                330       \n",
      "                                                                 \n",
      "=================================================================\n",
      "Total params: 347,114\n",
      "Trainable params: 347,114\n",
      "Non-trainable params: 0\n",
      "_________________________________________________________________\n"
     ]
    }
   ],
   "source": [
    "model = Sequential()\n",
    "\n",
    "model.add(Conv2D(filters=64,kernel_size=(3,3),input_shape=(28,28,1),activation='relu'))\n",
    "model.add(MaxPooling2D(pool_size = (2,2)))\n",
    "model.add(Dropout(rate=0.3))\n",
    "model.add(Flatten())\n",
    "model.add(Dense(units=32, activation='relu'))\n",
    "model.add(Dense(units=10, activation='sigmoid'))\n",
    "model.compile(loss='sparse_categorical_crossentropy',optimizer='adam',metrics=['accuracy'])\n",
    "model.summary()"
   ]
  },
  {
   "cell_type": "code",
   "execution_count": 15,
   "id": "7c2250f2",
   "metadata": {},
   "outputs": [
    {
     "name": "stdout",
     "output_type": "stream",
     "text": [
      "Epoch 1/50\n",
      "48/48 [==============================] - 54s 1s/step - loss: 0.9184 - accuracy: 0.7008 - val_loss: 0.5462 - val_accuracy: 0.8067\n",
      "Epoch 2/50\n",
      "48/48 [==============================] - 52s 1s/step - loss: 0.4874 - accuracy: 0.8272 - val_loss: 0.4514 - val_accuracy: 0.8440\n",
      "Epoch 3/50\n",
      "48/48 [==============================] - 52s 1s/step - loss: 0.4224 - accuracy: 0.8526 - val_loss: 0.4119 - val_accuracy: 0.8623\n",
      "Epoch 4/50\n",
      "48/48 [==============================] - 53s 1s/step - loss: 0.3846 - accuracy: 0.8663 - val_loss: 0.3789 - val_accuracy: 0.8690\n",
      "Epoch 5/50\n",
      "48/48 [==============================] - 52s 1s/step - loss: 0.3612 - accuracy: 0.8746 - val_loss: 0.3681 - val_accuracy: 0.8727\n",
      "Epoch 6/50\n",
      "48/48 [==============================] - 52s 1s/step - loss: 0.3437 - accuracy: 0.8807 - val_loss: 0.3462 - val_accuracy: 0.8803\n",
      "Epoch 7/50\n",
      "48/48 [==============================] - 51s 1s/step - loss: 0.3273 - accuracy: 0.8853 - val_loss: 0.3389 - val_accuracy: 0.8807\n",
      "Epoch 8/50\n",
      "48/48 [==============================] - 52s 1s/step - loss: 0.3186 - accuracy: 0.8894 - val_loss: 0.3223 - val_accuracy: 0.8853\n",
      "Epoch 9/50\n",
      "48/48 [==============================] - 31s 628ms/step - loss: 0.3052 - accuracy: 0.8937 - val_loss: 0.3112 - val_accuracy: 0.8940\n",
      "Epoch 10/50\n",
      "48/48 [==============================] - 29s 597ms/step - loss: 0.2953 - accuracy: 0.8974 - val_loss: 0.3080 - val_accuracy: 0.8927\n",
      "Epoch 11/50\n",
      "48/48 [==============================] - 29s 598ms/step - loss: 0.2890 - accuracy: 0.8975 - val_loss: 0.3010 - val_accuracy: 0.8933\n",
      "Epoch 12/50\n",
      "48/48 [==============================] - 29s 603ms/step - loss: 0.2829 - accuracy: 0.9008 - val_loss: 0.2919 - val_accuracy: 0.9020\n",
      "Epoch 13/50\n",
      "48/48 [==============================] - 29s 610ms/step - loss: 0.2758 - accuracy: 0.9040 - val_loss: 0.2988 - val_accuracy: 0.8967\n",
      "Epoch 14/50\n",
      "48/48 [==============================] - 29s 614ms/step - loss: 0.2698 - accuracy: 0.9046 - val_loss: 0.2961 - val_accuracy: 0.8957\n",
      "Epoch 15/50\n",
      "48/48 [==============================] - 31s 641ms/step - loss: 0.2675 - accuracy: 0.9057 - val_loss: 0.2833 - val_accuracy: 0.9043\n",
      "Epoch 16/50\n",
      "48/48 [==============================] - 30s 615ms/step - loss: 0.2578 - accuracy: 0.9083 - val_loss: 0.2784 - val_accuracy: 0.9053\n",
      "Epoch 17/50\n",
      "48/48 [==============================] - 30s 621ms/step - loss: 0.2556 - accuracy: 0.9086 - val_loss: 0.2853 - val_accuracy: 0.9017\n",
      "Epoch 18/50\n",
      "48/48 [==============================] - 30s 623ms/step - loss: 0.2530 - accuracy: 0.9097 - val_loss: 0.2775 - val_accuracy: 0.9077\n",
      "Epoch 19/50\n",
      "48/48 [==============================] - 31s 642ms/step - loss: 0.2462 - accuracy: 0.9118 - val_loss: 0.2729 - val_accuracy: 0.9053\n",
      "Epoch 20/50\n",
      "48/48 [==============================] - 32s 665ms/step - loss: 0.2421 - accuracy: 0.9146 - val_loss: 0.2710 - val_accuracy: 0.9077\n",
      "Epoch 21/50\n",
      "48/48 [==============================] - 38s 796ms/step - loss: 0.2399 - accuracy: 0.9145 - val_loss: 0.2658 - val_accuracy: 0.9083\n",
      "Epoch 22/50\n",
      "48/48 [==============================] - 39s 810ms/step - loss: 0.2361 - accuracy: 0.9155 - val_loss: 0.2661 - val_accuracy: 0.9083\n",
      "Epoch 23/50\n",
      "48/48 [==============================] - 36s 748ms/step - loss: 0.2319 - accuracy: 0.9164 - val_loss: 0.2645 - val_accuracy: 0.9110\n",
      "Epoch 24/50\n",
      "48/48 [==============================] - 36s 752ms/step - loss: 0.2306 - accuracy: 0.9180 - val_loss: 0.2724 - val_accuracy: 0.9060\n",
      "Epoch 25/50\n",
      "48/48 [==============================] - 36s 751ms/step - loss: 0.2279 - accuracy: 0.9176 - val_loss: 0.2605 - val_accuracy: 0.9113\n",
      "Epoch 26/50\n",
      "48/48 [==============================] - 32s 668ms/step - loss: 0.2244 - accuracy: 0.9197 - val_loss: 0.2554 - val_accuracy: 0.9130\n",
      "Epoch 27/50\n",
      "48/48 [==============================] - 34s 710ms/step - loss: 0.2202 - accuracy: 0.9205 - val_loss: 0.2554 - val_accuracy: 0.9127\n",
      "Epoch 28/50\n",
      "48/48 [==============================] - 32s 675ms/step - loss: 0.2183 - accuracy: 0.9222 - val_loss: 0.2534 - val_accuracy: 0.9113\n",
      "Epoch 29/50\n",
      "48/48 [==============================] - 32s 674ms/step - loss: 0.2139 - accuracy: 0.9230 - val_loss: 0.2525 - val_accuracy: 0.9160\n",
      "Epoch 30/50\n",
      "48/48 [==============================] - 32s 663ms/step - loss: 0.2137 - accuracy: 0.9240 - val_loss: 0.2564 - val_accuracy: 0.9150\n",
      "Epoch 31/50\n",
      "48/48 [==============================] - 34s 708ms/step - loss: 0.2126 - accuracy: 0.9229 - val_loss: 0.2544 - val_accuracy: 0.9120\n",
      "Epoch 32/50\n",
      "48/48 [==============================] - 35s 729ms/step - loss: 0.2070 - accuracy: 0.9241 - val_loss: 0.2508 - val_accuracy: 0.9147\n",
      "Epoch 33/50\n",
      "48/48 [==============================] - 33s 680ms/step - loss: 0.2053 - accuracy: 0.9259 - val_loss: 0.2560 - val_accuracy: 0.9123\n",
      "Epoch 34/50\n",
      "48/48 [==============================] - 31s 653ms/step - loss: 0.2042 - accuracy: 0.9265 - val_loss: 0.2505 - val_accuracy: 0.9160\n",
      "Epoch 35/50\n",
      "48/48 [==============================] - 31s 645ms/step - loss: 0.2032 - accuracy: 0.9270 - val_loss: 0.2555 - val_accuracy: 0.9157\n",
      "Epoch 36/50\n",
      "48/48 [==============================] - 32s 662ms/step - loss: 0.2000 - accuracy: 0.9278 - val_loss: 0.2489 - val_accuracy: 0.9150\n",
      "Epoch 37/50\n",
      "48/48 [==============================] - 37s 769ms/step - loss: 0.1976 - accuracy: 0.9293 - val_loss: 0.2521 - val_accuracy: 0.9160\n",
      "Epoch 38/50\n",
      "48/48 [==============================] - 32s 674ms/step - loss: 0.1952 - accuracy: 0.9298 - val_loss: 0.2486 - val_accuracy: 0.9160\n",
      "Epoch 39/50\n",
      "48/48 [==============================] - 31s 641ms/step - loss: 0.1890 - accuracy: 0.9322 - val_loss: 0.2495 - val_accuracy: 0.9150\n",
      "Epoch 40/50\n",
      "48/48 [==============================] - 31s 637ms/step - loss: 0.1899 - accuracy: 0.9308 - val_loss: 0.2458 - val_accuracy: 0.9173\n",
      "Epoch 41/50\n",
      "48/48 [==============================] - 30s 623ms/step - loss: 0.1881 - accuracy: 0.9321 - val_loss: 0.2496 - val_accuracy: 0.9143\n",
      "Epoch 42/50\n",
      "48/48 [==============================] - 33s 679ms/step - loss: 0.1891 - accuracy: 0.9308 - val_loss: 0.2461 - val_accuracy: 0.9200\n",
      "Epoch 43/50\n",
      "48/48 [==============================] - 32s 673ms/step - loss: 0.1839 - accuracy: 0.9335 - val_loss: 0.2532 - val_accuracy: 0.9133\n",
      "Epoch 44/50\n",
      "48/48 [==============================] - 37s 772ms/step - loss: 0.1849 - accuracy: 0.9329 - val_loss: 0.2446 - val_accuracy: 0.9153\n",
      "Epoch 45/50\n",
      "48/48 [==============================] - 39s 805ms/step - loss: 0.1803 - accuracy: 0.9345 - val_loss: 0.2463 - val_accuracy: 0.9173\n",
      "Epoch 46/50\n",
      "48/48 [==============================] - 39s 809ms/step - loss: 0.1807 - accuracy: 0.9342 - val_loss: 0.2570 - val_accuracy: 0.9100\n",
      "Epoch 47/50\n",
      "48/48 [==============================] - 46s 950ms/step - loss: 0.1780 - accuracy: 0.9352 - val_loss: 0.2486 - val_accuracy: 0.9177\n",
      "Epoch 48/50\n",
      "48/48 [==============================] - 53s 1s/step - loss: 0.1748 - accuracy: 0.9368 - val_loss: 0.2437 - val_accuracy: 0.9187\n",
      "Epoch 49/50\n",
      "48/48 [==============================] - 32s 652ms/step - loss: 0.1738 - accuracy: 0.9360 - val_loss: 0.2511 - val_accuracy: 0.9157\n",
      "Epoch 50/50\n",
      "48/48 [==============================] - 27s 571ms/step - loss: 0.1717 - accuracy: 0.9374 - val_loss: 0.2489 - val_accuracy: 0.9167\n"
     ]
    },
    {
     "data": {
      "text/plain": [
       "<keras.callbacks.History at 0x2256fc93820>"
      ]
     },
     "execution_count": 15,
     "metadata": {},
     "output_type": "execute_result"
    }
   ],
   "source": [
    "model.fit(x_train,y_train,epochs=50,batch_size=1200,validation_split=0.05)"
   ]
  },
  {
   "cell_type": "markdown",
   "id": "0c63a954",
   "metadata": {},
   "source": [
    "### Evaluation"
   ]
  },
  {
   "cell_type": "code",
   "execution_count": 16,
   "id": "444932cf",
   "metadata": {},
   "outputs": [
    {
     "name": "stdout",
     "output_type": "stream",
     "text": [
      "313/313 [==============================] - 2s 5ms/step - loss: 0.2342 - accuracy: 0.9177\n"
     ]
    }
   ],
   "source": [
    "evaluation = model.evaluate(x_test,y_test)"
   ]
  },
  {
   "cell_type": "code",
   "execution_count": 17,
   "id": "0e91da3e",
   "metadata": {},
   "outputs": [
    {
     "name": "stdout",
     "output_type": "stream",
     "text": [
      "Accuracy: 0.9176999926567078\n"
     ]
    }
   ],
   "source": [
    "print(f\"Accuracy: {evaluation[1]}\")"
   ]
  },
  {
   "cell_type": "code",
   "execution_count": 18,
   "id": "93de0228",
   "metadata": {},
   "outputs": [],
   "source": [
    "y_probas = model.predict(x_test)"
   ]
  },
  {
   "cell_type": "code",
   "execution_count": 19,
   "id": "e1b79430",
   "metadata": {},
   "outputs": [],
   "source": [
    "y_pred = y_probas.argmax(axis=-1)"
   ]
  },
  {
   "cell_type": "code",
   "execution_count": 20,
   "id": "462fff96",
   "metadata": {},
   "outputs": [
    {
     "data": {
      "text/plain": [
       "array([0, 1, 2, ..., 8, 8, 1], dtype=int64)"
      ]
     },
     "execution_count": 20,
     "metadata": {},
     "output_type": "execute_result"
    }
   ],
   "source": [
    "y_pred"
   ]
  },
  {
   "cell_type": "code",
   "execution_count": 21,
   "id": "f9ee9eb0",
   "metadata": {},
   "outputs": [
    {
     "data": {
      "image/png": "[encoded data removed]",
      "text/plain": [
       "<Figure size 720x720 with 25 Axes>"
      ]
     },
     "metadata": {},
     "output_type": "display_data"
    }
   ],
   "source": [
    "plt.figure(figsize=(10,10),)\n",
    "for i in range(25):\n",
    "    plt.subplot(5,5,i+1)\n",
    "    plt.xticks([])\n",
    "    plt.yticks([])\n",
    "    plt.grid(False)\n",
    "    plt.imshow(x_test[i], cmap=plt.cm.binary)\n",
    "#     plt.xlabel(f\"True Class:{y_test[i]}\")\n",
    "    plt.title(f\"Pred:{class_names[y_pred[i]]}\")\n",
    "plt.show()"
   ]
  },
  {
   "cell_type": "code",
   "execution_count": 22,
   "id": "3e85a374",
   "metadata": {},
   "outputs": [],
   "source": [
    "from sklearn.metrics import classification_report"
   ]
  },
  {
   "cell_type": "code",
   "execution_count": 23,
   "id": "36442965",
   "metadata": {},
   "outputs": [
    {
     "name": "stdout",
     "output_type": "stream",
     "text": [
      "              precision    recall  f1-score   support\n",
      "\n",
      "     class 0       0.88      0.84      0.86      1000\n",
      "     class 1       0.99      0.98      0.99      1000\n",
      "     class 2       0.90      0.84      0.87      1000\n",
      "     class 3       0.91      0.95      0.93      1000\n",
      "     class 4       0.89      0.87      0.88      1000\n",
      "     class 5       0.99      0.98      0.98      1000\n",
      "     class 6       0.74      0.80      0.77      1000\n",
      "     class 7       0.96      0.97      0.96      1000\n",
      "     class 8       0.99      0.97      0.98      1000\n",
      "     class 9       0.97      0.97      0.97      1000\n",
      "\n",
      "    accuracy                           0.92     10000\n",
      "   macro avg       0.92      0.92      0.92     10000\n",
      "weighted avg       0.92      0.92      0.92     10000\n",
      "\n"
     ]
    }
   ],
   "source": [
    "num_classes = 10\n",
    "class_names = [\"class {}\".format(i) for i in range(num_classes)]\n",
    "cr = classification_report(y_test, y_pred, target_names=class_names)\n",
    "print(cr)"
   ]
  },
  {
   "cell_type": "code",
   "execution_count": null,
   "id": "6e876244",
   "metadata": {},
   "outputs": [],
   "source": []
  }
 ],
 "metadata": {
  "kernelspec": {
   "display_name": "Python 3",
   "language": "python",
   "name": "python3"
  },
  "language_info": {
   "codemirror_mode": {
    "name": "ipython",
    "version": 3
   },
   "file_extension": ".py",
   "mimetype": "text/x-python",
   "name": "python",
   "nbconvert_exporter": "python",
   "pygments_lexer": "ipython3",
   "version": "3.8.8"
  }
 },
 "nbformat": 4,
 "nbformat_minor": 5
}
