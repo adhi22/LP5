{
  "nbformat": 4,
  "nbformat_minor": 0,
  "metadata": {
    "colab": {
      "provenance": [],
      "gpuType": "T4"
    },
    "kernelspec": {
      "name": "python3",
      "display_name": "Python 3"
    },
    "language_info": {
      "name": "python"
    },
    "accelerator": "GPU",
    "gpuClass": "standard"
  },
  "cells": [
    {
      "cell_type": "code",
      "execution_count": null,
      "metadata": {
        "colab": {
          "base_uri": "https://localhost:8080/"
        },
        "id": "9gTDjxXwb_Su",
        "outputId": "f56e9188-8534-4317-8c6b-495061e421bb"
      },
      "outputs": [
        {
          "output_type": "stream",
          "name": "stdout",
          "text": [
            "nvcc: NVIDIA (R) Cuda compiler driver\n",
            "Copyright (c) 2005-2022 NVIDIA Corporation\n",
            "Built on Wed_Sep_21_10:33:58_PDT_2022\n",
            "Cuda compilation tools, release 11.8, V11.8.89\n",
            "Build cuda_11.8.r11.8/compiler.31833905_0\n"
          ]
        }
      ],
      "source": [
        "!nvcc --version"
      ]
    },
    {
      "cell_type": "code",
      "source": [
        "!pip install git+https://github.com/andreinechaev/nvcc4jupyter.git"
      ],
      "metadata": {
        "colab": {
          "base_uri": "https://localhost:8080/"
        },
        "id": "7heT0Taud4Kh",
        "outputId": "735aa2ce-b815-41d0-d9c2-de6d703ec75b"
      },
      "execution_count": null,
      "outputs": [
        {
          "output_type": "stream",
          "name": "stdout",
          "text": [
            "Looking in indexes: https://pypi.org/simple, https://us-python.pkg.dev/colab-wheels/public/simple/\n",
            "Collecting git+https://github.com/andreinechaev/nvcc4jupyter.git\n",
            "  Cloning https://github.com/andreinechaev/nvcc4jupyter.git to /tmp/pip-req-build-dp2khegd\n",
            "  Running command git clone --filter=blob:none --quiet https://github.com/andreinechaev/nvcc4jupyter.git /tmp/pip-req-build-dp2khegd\n",
            "  Resolved https://github.com/andreinechaev/nvcc4jupyter.git to commit aac710a35f52bb78ab34d2e52517237941399eff\n",
            "  Preparing metadata (setup.py) ... \u001b[?25l\u001b[?25hdone\n",
            "Building wheels for collected packages: NVCCPlugin\n",
            "  Building wheel for NVCCPlugin (setup.py) ... \u001b[?25l\u001b[?25hdone\n",
            "  Created wheel for NVCCPlugin: filename=NVCCPlugin-0.0.2-py3-none-any.whl size=4287 sha256=aedcdd2cc3422a2fb19ebe4f7df67ed897900c17d141df90d544bdf3c4017166\n",
            "  Stored in directory: /tmp/pip-ephem-wheel-cache-qui6lyau/wheels/a8/b9/18/23f8ef71ceb0f63297dd1903aedd067e6243a68ea756d6feea\n",
            "Successfully built NVCCPlugin\n",
            "Installing collected packages: NVCCPlugin\n",
            "Successfully installed NVCCPlugin-0.0.2\n"
          ]
        }
      ]
    },
    {
      "cell_type": "code",
      "source": [
        "%load_ext nvcc_plugin"
      ],
      "metadata": {
        "colab": {
          "base_uri": "https://localhost:8080/"
        },
        "id": "D8dzVzWkeDoX",
        "outputId": "36d718b7-7844-42a3-da97-4de940438687"
      },
      "execution_count": null,
      "outputs": [
        {
          "output_type": "stream",
          "name": "stdout",
          "text": [
            "created output directory at /content/src\n",
            "Out bin /content/result.out\n"
          ]
        }
      ]
    },
    {
      "cell_type": "code",
      "source": [
        "%%cu\n",
        "#include <iostream>\n",
        "using namespace std;\n",
        "int main() {\n",
        "    cout << \"Hello\";\n",
        "    return 0;\n",
        "}"
      ],
      "metadata": {
        "colab": {
          "base_uri": "https://localhost:8080/"
        },
        "id": "4nL12O1nfEdH",
        "outputId": "76787c43-ebbd-43b5-847e-232dbfe87384"
      },
      "execution_count": null,
      "outputs": [
        {
          "output_type": "stream",
          "name": "stdout",
          "text": [
            "Hello\n"
          ]
        }
      ]
    },
    {
      "cell_type": "code",
      "source": [
        "%%cu\n",
        "#include <iostream>\n",
        "#include <cstdlib>\n",
        "\n",
        "#define N 4\n",
        "\n",
        "// CUDA kernel for matrix multiplication\n",
        "__global__ void matrixMul(int *a, int *b, int *c, int n)\n",
        "{\n",
        "    int row = blockIdx.y * blockDim.y + threadIdx.y;\n",
        "    int col = blockIdx.x * blockDim.x + threadIdx.x;\n",
        "\n",
        "    if (row < n && col < n) {\n",
        "        int sum = 0;\n",
        "        for (int i = 0; i < n; i++) {\n",
        "            sum += a[row * n + i] * b[i * n + col];\n",
        "        }\n",
        "        c[row * n + col] = sum;\n",
        "    }\n",
        "}\n",
        "\n",
        "int main()\n",
        "{\n",
        "    int *h_a, *h_b, *h_c; // host matrices\n",
        "    int *d_a, *d_b, *d_c; // device matrices\n",
        "\n",
        "    // Allocate host memory\n",
        "    h_a = (int *)malloc(N * N * sizeof(int));\n",
        "    h_b = (int *)malloc(N * N * sizeof(int));\n",
        "    h_c = (int *)malloc(N * N * sizeof(int));\n",
        "\n",
        "    // Allocate device memory\n",
        "    cudaMalloc((void **)&d_a, N * N * sizeof(int));\n",
        "    cudaMalloc((void **)&d_b, N * N * sizeof(int));\n",
        "    cudaMalloc((void **)&d_c, N * N * sizeof(int));\n",
        "\n",
        "    // Initialize host matrices\n",
        "     for (int i = 0; i < N * N; i++) {\n",
        "          h_a[i] = i + 1;\n",
        "         h_b[i] = (i + 1) * 2;\n",
        "     }\n",
        " \n",
        "    // h_a[] = {1,2,3,4,5,6,7,8,9,10,11,12,13,14,15,16};\n",
        "    // h_b[] = {1,2,3,4,5,6,7,8,9,10,11,12,13,14,15,16};\n",
        "\n",
        "    // Copy host matrices to device\n",
        "    cudaMemcpy(d_a, h_a, N * N * sizeof(int), cudaMemcpyHostToDevice);\n",
        "    cudaMemcpy(d_b, h_b, N * N * sizeof(int), cudaMemcpyHostToDevice);\n",
        "\n",
        "    // Define grid and block dimensions\n",
        "    dim3 blockDim(N, N);\n",
        "    dim3 gridDim((N + blockDim.x - 1) / blockDim.x, (N + blockDim.y - 1) / blockDim.y);\n",
        "\n",
        "    // Launch kernel\n",
        "    matrixMul<<<gridDim, blockDim>>>(d_a, d_b, d_c, N);\n",
        "\n",
        "    // Copy result from device to host\n",
        "    cudaMemcpy(h_c, d_c, N * N * sizeof(int), cudaMemcpyDeviceToHost);\n",
        "\n",
        "    // Print result\n",
        "    std::cout << \"Matrix C:\" << std::endl;\n",
        "    for (int i = 0; i < N * N; i++) {\n",
        "        std::cout << h_c[i] << \" \";\n",
        "        if ((i + 1) % N == 0) {\n",
        "            std::cout << std::endl;\n",
        "        }\n",
        "    }\n",
        "\n",
        "    // Free device memory\n",
        "    cudaFree(d_a);\n",
        "    cudaFree(d_b);\n",
        "    cudaFree(d_c);\n",
        "\n",
        "    // Free host memory\n",
        "    free(h_a);\n",
        "    free(h_b);\n",
        "    free(h_c);\n",
        "\n",
        "    return 0;\n",
        "}\n"
      ],
      "metadata": {
        "colab": {
          "base_uri": "https://localhost:8080/"
        },
        "id": "3ZIQUNsZj61u",
        "outputId": "40b324d3-907c-4e59-d034-ae75bada4ce8"
      },
      "execution_count": null,
      "outputs": [
        {
          "output_type": "stream",
          "name": "stdout",
          "text": [
            "Matrix C:\n",
            "180 200 220 240 \n",
            "404 456 508 560 \n",
            "628 712 796 880 \n",
            "852 968 1084 1200 \n",
            "\n"
          ]
        }
      ]
    },
    {
      "cell_type": "code",
      "source": [
        "%%cu\n",
        "#include <iostream>\n",
        "#include <cstdlib>\n",
        "\n",
        "#define N 6\n",
        "\n",
        "// CUDA kernel for vector addition\n",
        "__global__ void vectorAdd(int *a, int *b, int *c, int n)\n",
        "{\n",
        "    int tid = blockIdx.x * blockDim.x + threadIdx.x;\n",
        "\n",
        "    if (tid < n) {\n",
        "        c[tid] = a[tid] + b[tid];\n",
        "    }\n",
        "}\n",
        "\n",
        "int main()\n",
        "{\n",
        "    int *h_a, *h_b, *h_c; // host vectors\n",
        "    int *d_a, *d_b, *d_c; // device vectors\n",
        "\n",
        "    // Allocate host memory\n",
        "    h_a = (int *)malloc(N * sizeof(int));\n",
        "    h_b = (int *)malloc(N * sizeof(int));\n",
        "    h_c = (int *)malloc(N * sizeof(int));\n",
        "\n",
        "    // Allocate device memory\n",
        "    cudaMalloc((void **)&d_a, N * sizeof(int));\n",
        "    cudaMalloc((void **)&d_b, N * sizeof(int));\n",
        "    cudaMalloc((void **)&d_c, N * sizeof(int));\n",
        "\n",
        "    // Initialize host vectors\n",
        "    for (int i = 0; i < N; i++) {\n",
        "        h_a[i] = i;\n",
        "        h_b[i] = 2 * i;\n",
        "    }\n",
        "\n",
        "    // Copy host vectors to device\n",
        "    cudaMemcpy(d_a, h_a, N * sizeof(int), cudaMemcpyHostToDevice);\n",
        "    cudaMemcpy(d_b, h_b, N * sizeof(int), cudaMemcpyHostToDevice);\n",
        "\n",
        "    // Define block and grid dimensions\n",
        "    int blockSize = 256;\n",
        "    int gridSize = (N + blockSize - 1) / blockSize;\n",
        "\n",
        "    // Launch kernel\n",
        "    vectorAdd<<<gridSize, blockSize>>>(d_a, d_b, d_c, N);\n",
        "\n",
        "    // Copy result from device to host\n",
        "    cudaMemcpy(h_c, d_c, N * sizeof(int), cudaMemcpyDeviceToHost);\n",
        "\n",
        "    // Print result\n",
        "    std::cout << \"Vector C:\" << std::endl;\n",
        "    for (int i = 0; i < N; i++) {\n",
        "        std::cout << h_c[i] << \" \";\n",
        "    }\n",
        "    std::cout << std::endl;\n",
        "\n",
        "    // Free device memory\n",
        "    cudaFree(d_a);\n",
        "    cudaFree(d_b);\n",
        "    cudaFree(d_c);\n",
        "\n",
        "    // Free host memory\n",
        "    free(h_a);\n",
        "    free(h_b);\n",
        "    free(h_c);\n",
        "\n",
        "    return 0;\n",
        "}\n"
      ],
      "metadata": {
        "colab": {
          "base_uri": "https://localhost:8080/"
        },
        "id": "IJTsoHrzl9z9",
        "outputId": "f34b0961-b5a0-43c1-f691-0c38f7ac4f9e"
      },
      "execution_count": null,
      "outputs": [
        {
          "output_type": "stream",
          "name": "stdout",
          "text": [
            "Vector C:\n",
            "0 3 6 9 12 15 \n",
            "\n"
          ]
        }
      ]
    },
    {
      "cell_type": "code",
      "source": [
        "%%cu\n",
        "#include <iostream>\n",
        "#include <cstdlib>\n",
        "#include <limits>\n",
        "using namespace std;\n",
        "\n",
        "#define N 15\n",
        "\n",
        "// CUDA kernel for finding min, max, sum, and average\n",
        "__global__ void arrayStats(int *arr, int size, int *minVal, int *maxVal, int *sum, float *average)\n",
        "{\n",
        "    int tid = blockIdx.x * blockDim.x + threadIdx.x;\n",
        "\n",
        "    if (tid < size) {\n",
        "        // Initialize thread-local variables\n",
        "        int localMin = INT_MAX;\n",
        "        int localMax = INT_MIN;\n",
        "        int localSum = 0;\n",
        "\n",
        "        // Iterate over the array and update thread-local variables\n",
        "        for (int i = tid; i < size; i += blockDim.x * gridDim.x) {\n",
        "            int val = arr[i];\n",
        "            localMin = min(localMin, val);\n",
        "            localMax = max(localMax, val);\n",
        "            localSum += val;\n",
        "        }\n",
        "\n",
        "        // Update global variables using atomic operations\n",
        "        atomicMin(minVal, localMin);\n",
        "        atomicMax(maxVal, localMax);\n",
        "        atomicAdd(sum, localSum);\n",
        "    }\n",
        "}\n",
        "\n",
        "int main()\n",
        "{\n",
        "    int *h_arr;       // host array\n",
        "    int *d_arr;       // device array\n",
        "    int *d_minVal;    // device minimum value\n",
        "    int *d_maxVal;    // device maximum value\n",
        "    int *d_sum;       // device sum\n",
        "    float *d_average; // device average\n",
        "\n",
        "    // Allocate host memory\n",
        "    h_arr = (int *)malloc(N * sizeof(int));\n",
        "\n",
        "    // Allocate device memory\n",
        "    cudaMalloc((void **)&d_arr, N * sizeof(int));\n",
        "    cudaMalloc((void **)&d_minVal, sizeof(int));\n",
        "    cudaMalloc((void **)&d_maxVal, sizeof(int));\n",
        "    cudaMalloc((void **)&d_sum, sizeof(int));\n",
        "    cudaMalloc((void **)&d_average, sizeof(float));\n",
        "\n",
        "    // Initialize host array\n",
        "    for (int i = 0; i < N; i++) {\n",
        "        h_arr[i] = rand() % 100;\n",
        "    }\n",
        "\n",
        "    // Copy host array to device\n",
        "    cudaMemcpy(d_arr, h_arr, N * sizeof(int), cudaMemcpyHostToDevice);\n",
        "\n",
        "    // Set initial values for min, max, sum, and average\n",
        "    int initialMin = INT_MAX;\n",
        "    int initialMax = INT_MIN;\n",
        "    int initialSum = 0;\n",
        "    float initialAverage = 0.0f;\n",
        "\n",
        "    cudaMemcpy(d_minVal, &initialMin, sizeof(int), cudaMemcpyHostToDevice);\n",
        "    cudaMemcpy(d_maxVal, &initialMax, sizeof(int), cudaMemcpyHostToDevice);\n",
        "    cudaMemcpy(d_sum, &initialSum, sizeof(int), cudaMemcpyHostToDevice);\n",
        "    cudaMemcpy(d_average, &initialAverage, sizeof(float), cudaMemcpyHostToDevice);\n",
        "\n",
        "    // Define block and grid dimensions\n",
        "    int blockSize = 256;\n",
        "    int gridSize = (N + blockSize - 1) / blockSize;\n",
        "\n",
        "    // Launch kernel\n",
        "    arrayStats<<<gridSize, blockSize>>>(d_arr, N, d_minVal, d_maxVal, d_sum, d_average);\n",
        "\n",
        "    // Copy result from device to host\n",
        "    int minVal, maxVal, sum;\n",
        "    float average;\n",
        "    cudaMemcpy(&minVal, d_minVal, sizeof(int), cudaMemcpyDeviceToHost);\n",
        "    cudaMemcpy(&maxVal, d_maxVal, sizeof(int), cudaMemcpyDeviceToHost);\n",
        "    cudaMemcpy(&sum, d_sum, sizeof(int), cudaMemcpyDeviceToHost);\n",
        "    cudaMemcpy(&average, d_average, sizeof(float), cudaMemcpyDeviceToHost);\n",
        " \n",
        "    for(int i=0; i<N; i++) {\n",
        "        cout << h_arr[i] << \" \";\n",
        "    }\n",
        "    cout << \"\\n\";\n",
        "\n",
        "    // Print result\n",
        "    std::cout << \"Array Stats:\" << std::endl;\n",
        "    std::cout << \"Min: \" << minVal << std::endl;\n",
        "    std::cout << \"Max: \" << maxVal << std::endl;\n",
        "    std::cout << \"Sum: \" << sum << std::endl;\n",
        "    std::cout << \"Average: \" << average << std::endl;\n",
        "\n",
        "    // Free device memory\n",
        "    cudaFree(d_arr);\n",
        "    cudaFree(d_minVal);\n",
        "    cudaFree(d_maxVal);\n",
        "    cudaFree(d_sum);\n",
        "    cudaFree(d_average);\n",
        "\n",
        "    // Free host memory\n",
        "    free(h_arr);\n",
        "\n",
        "    return 0;\n",
        "}\n"
      ],
      "metadata": {
        "id": "YvY0_KONnJfm",
        "colab": {
          "base_uri": "https://localhost:8080/"
        },
        "outputId": "df03dc69-8858-4ed3-aefa-f5503973eef8"
      },
      "execution_count": null,
      "outputs": [
        {
          "output_type": "stream",
          "name": "stdout",
          "text": [
            "83 86 77 15 93 35 86 92 49 21 62 27 90 59 63 \n",
            "Array Stats:\n",
            "Min: 15\n",
            "Max: 93\n",
            "Sum: 938\n",
            "Average: 0\n",
            "\n"
          ]
        }
      ]
    },
    {
      "cell_type": "code",
      "source": [],
      "metadata": {
        "id": "In6n0RNRTg9U"
      },
      "execution_count": null,
      "outputs": []
    }
  ]
}